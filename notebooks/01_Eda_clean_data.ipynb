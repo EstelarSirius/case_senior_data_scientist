{
 "cells": [
  {
   "cell_type": "markdown",
   "id": "7973cc59",
   "metadata": {},
   "source": [
    "# Imports"
   ]
  },
  {
   "cell_type": "code",
   "execution_count": 1,
   "id": "9617e730",
   "metadata": {},
   "outputs": [
    {
     "data": {
      "text/plain": [
       "True"
      ]
     },
     "execution_count": 1,
     "metadata": {},
     "output_type": "execute_result"
    }
   ],
   "source": [
    "import os\n",
    "\n",
    "import pandas as pd\n",
    "import seaborn as sns\n",
    "import matplotlib.pyplot as plt\n",
    "\n",
    "from dotenv import load_dotenv\n",
    "from sqlalchemy import create_engine, MetaData, Table\n",
    "from sklearn.model_selection import train_test_split\n",
    "\n",
    "load_dotenv(override=True)"
   ]
  },
  {
   "cell_type": "markdown",
   "id": "197acdd7",
   "metadata": {},
   "source": [
    "# Carregando dados"
   ]
  },
  {
   "cell_type": "markdown",
   "id": "21ccfe06",
   "metadata": {},
   "source": [
    "Carregando as variáveis ambientes"
   ]
  },
  {
   "cell_type": "code",
   "execution_count": 2,
   "id": "a5514f9d",
   "metadata": {},
   "outputs": [],
   "source": [
    "DB_USER = os.getenv(\"DB_USER\")\n",
    "DB_HOST = os.getenv(\"DB_HOST\")\n",
    "DB_PORT = os.getenv(\"DB_PORT\")\n",
    "DB_PASSWORD = os.getenv(\"DB_PASSWORD\")\n",
    "DB_DATABASE = os.getenv(\"DB_DATABASE\")\n",
    "\n",
    "engine = create_engine(f\"mysql+pymysql://{DB_USER}:{DB_PASSWORD}@{DB_HOST}:{DB_PORT}/{DB_DATABASE}\")"
   ]
  },
  {
   "cell_type": "markdown",
   "id": "c1629923",
   "metadata": {},
   "source": [
    "Visualizando as tabelas"
   ]
  },
  {
   "cell_type": "code",
   "execution_count": 3,
   "id": "d6efb7d6",
   "metadata": {},
   "outputs": [
    {
     "name": "stdout",
     "output_type": "stream",
     "text": [
      "dict_keys(['daumau', 'desinstalacoes', 'installs', 'ratings_reviews'])\n"
     ]
    }
   ],
   "source": [
    "# Cria o objeto metadata\n",
    "metadata = MetaData()\n",
    "\n",
    "# Reflete (carrega) todas as tabelas do banco\n",
    "metadata.reflect(bind=engine)\n",
    "\n",
    "# Lista os nomes das tabelas\n",
    "print(metadata.tables.keys())"
   ]
  },
  {
   "cell_type": "markdown",
   "id": "72616c74",
   "metadata": {},
   "source": [
    "Carregando as tabelas"
   ]
  },
  {
   "cell_type": "code",
   "execution_count": 4,
   "id": "31635179",
   "metadata": {},
   "outputs": [],
   "source": [
    "#carregando tabelas\n",
    "\n",
    "with engine.connect() as connection:\n",
    "    df_daumau = pd.read_sql(\n",
    "        sql = \"SELECT * FROM case_data_scientist.daumau\",\n",
    "        con = connection\n",
    "    )\n",
    "    df_desinstalacoes = pd.read_sql(\n",
    "        sql = \"SELECT * FROM case_data_scientist.desinstalacoes\",\n",
    "        con = connection\n",
    "    )\n",
    "    df_instalacoes = pd.read_sql(\n",
    "        sql = \"SELECT * FROM case_data_scientist.installs\",\n",
    "        con = connection\n",
    "    )\n",
    "    df_reviews = pd.read_sql(\n",
    "        sql = \"SELECT * FROM case_data_scientist.ratings_reviews\",\n",
    "        con = connection\n",
    "    )"
   ]
  },
  {
   "cell_type": "markdown",
   "id": "fabaa882",
   "metadata": {},
   "source": [
    "# Estudo das tabelas"
   ]
  },
  {
   "cell_type": "markdown",
   "id": "8f0523eb",
   "metadata": {},
   "source": [
    "O principal objetivo dessa etapa é entender quais as informações presentes na tabela e a sua usabilidade, com isso realizando os tratamentos necessários para juntar as bases em uma etapa seguinte\n",
    "\n",
    "Realizari as seguintes analises para todas as bases:\n",
    "- Verificação de **Tamanho da Base** : Entendo qual as dimensões das bases que serão trabalhadas.\n",
    "- Verificação de **Tipagem** : Busco entender quais os tipos presentes e se há necessidade de tratamento no campo.\n",
    "- Verificação de **Dados Ausentes**: Percebo como está o preenchimento do dado e os valores ausentes.\n",
    "- Verificação de **Registros Duplicados**: Realizo a validação de registros dúplicados na base."
   ]
  },
  {
   "cell_type": "markdown",
   "id": "682ee58c",
   "metadata": {},
   "source": [
    "## daumau - Tabela de usuários ativos diariamente/mensalmente"
   ]
  },
  {
   "cell_type": "markdown",
   "id": "a041720e",
   "metadata": {},
   "source": [
    "Crio uma documentação com base no entendimento do dado\n",
    "\n",
    "- **appId**: Chave unica de agrupamento do aplicativo\n",
    "- **date**: Data de referência do registro\n",
    "- **dauReal**: Número de usuários ativos no dia\n",
    "- **mauReal**: Número de usuários ativos no mês"
   ]
  },
  {
   "cell_type": "code",
   "execution_count": 5,
   "id": "63f6505c",
   "metadata": {},
   "outputs": [
    {
     "data": {
      "application/vnd.microsoft.datawrangler.viewer.v0+json": {
       "columns": [
        {
         "name": "index",
         "rawType": "int64",
         "type": "integer"
        },
        {
         "name": "appId",
         "rawType": "object",
         "type": "string"
        },
        {
         "name": "date",
         "rawType": "object",
         "type": "unknown"
        },
        {
         "name": "dauReal",
         "rawType": "float64",
         "type": "float"
        },
        {
         "name": "mauReal",
         "rawType": "float64",
         "type": "float"
        }
       ],
       "ref": "28a4cb11-1aad-4d02-bd2f-ef4179b17a05",
       "rows": [
        [
         "0",
         "com.app.33540",
         "2024-01-01",
         "393961.0",
         "3643110.0"
        ],
        [
         "1",
         "com.app.33540",
         "2024-01-02",
         "800448.0",
         "3643040.0"
        ],
        [
         "2",
         "com.app.31679",
         "2024-01-01",
         "157532.0",
         "1349262.0"
        ],
        [
         "3",
         "com.app.31679",
         "2024-01-02",
         "313847.0",
         "1349317.0"
        ],
        [
         "4",
         "com.app.77385",
         "2024-01-01",
         "239768.0",
         "1934660.0"
        ]
       ],
       "shape": {
        "columns": 4,
        "rows": 5
       }
      },
      "text/html": [
       "<div>\n",
       "<style scoped>\n",
       "    .dataframe tbody tr th:only-of-type {\n",
       "        vertical-align: middle;\n",
       "    }\n",
       "\n",
       "    .dataframe tbody tr th {\n",
       "        vertical-align: top;\n",
       "    }\n",
       "\n",
       "    .dataframe thead th {\n",
       "        text-align: right;\n",
       "    }\n",
       "</style>\n",
       "<table border=\"1\" class=\"dataframe\">\n",
       "  <thead>\n",
       "    <tr style=\"text-align: right;\">\n",
       "      <th></th>\n",
       "      <th>appId</th>\n",
       "      <th>date</th>\n",
       "      <th>dauReal</th>\n",
       "      <th>mauReal</th>\n",
       "    </tr>\n",
       "  </thead>\n",
       "  <tbody>\n",
       "    <tr>\n",
       "      <th>0</th>\n",
       "      <td>com.app.33540</td>\n",
       "      <td>2024-01-01</td>\n",
       "      <td>393961.0</td>\n",
       "      <td>3643110.0</td>\n",
       "    </tr>\n",
       "    <tr>\n",
       "      <th>1</th>\n",
       "      <td>com.app.33540</td>\n",
       "      <td>2024-01-02</td>\n",
       "      <td>800448.0</td>\n",
       "      <td>3643040.0</td>\n",
       "    </tr>\n",
       "    <tr>\n",
       "      <th>2</th>\n",
       "      <td>com.app.31679</td>\n",
       "      <td>2024-01-01</td>\n",
       "      <td>157532.0</td>\n",
       "      <td>1349262.0</td>\n",
       "    </tr>\n",
       "    <tr>\n",
       "      <th>3</th>\n",
       "      <td>com.app.31679</td>\n",
       "      <td>2024-01-02</td>\n",
       "      <td>313847.0</td>\n",
       "      <td>1349317.0</td>\n",
       "    </tr>\n",
       "    <tr>\n",
       "      <th>4</th>\n",
       "      <td>com.app.77385</td>\n",
       "      <td>2024-01-01</td>\n",
       "      <td>239768.0</td>\n",
       "      <td>1934660.0</td>\n",
       "    </tr>\n",
       "  </tbody>\n",
       "</table>\n",
       "</div>"
      ],
      "text/plain": [
       "           appId        date   dauReal    mauReal\n",
       "0  com.app.33540  2024-01-01  393961.0  3643110.0\n",
       "1  com.app.33540  2024-01-02  800448.0  3643040.0\n",
       "2  com.app.31679  2024-01-01  157532.0  1349262.0\n",
       "3  com.app.31679  2024-01-02  313847.0  1349317.0\n",
       "4  com.app.77385  2024-01-01  239768.0  1934660.0"
      ]
     },
     "execution_count": 5,
     "metadata": {},
     "output_type": "execute_result"
    }
   ],
   "source": [
    "df_daumau.head()"
   ]
  },
  {
   "cell_type": "markdown",
   "id": "514043fd",
   "metadata": {},
   "source": [
    "**Verificação de tamanho**"
   ]
  },
  {
   "cell_type": "markdown",
   "id": "7c3c3afb",
   "metadata": {},
   "source": [
    "Busco entender as dimensões da base que estou trabalhando."
   ]
  },
  {
   "cell_type": "code",
   "execution_count": 6,
   "id": "4d68b3dc",
   "metadata": {},
   "outputs": [
    {
     "data": {
      "text/plain": [
       "(41299, 4)"
      ]
     },
     "execution_count": 6,
     "metadata": {},
     "output_type": "execute_result"
    }
   ],
   "source": [
    "df_daumau.shape"
   ]
  },
  {
   "cell_type": "markdown",
   "id": "72968dcb",
   "metadata": {},
   "source": [
    "**Verificação de tipagem**"
   ]
  },
  {
   "cell_type": "markdown",
   "id": "1c98d79c",
   "metadata": {},
   "source": [
    "Verificando os tipos das variaveis do dataset, verificando se há algum campo que precise de ajustes."
   ]
  },
  {
   "cell_type": "code",
   "execution_count": 7,
   "id": "e11016ea",
   "metadata": {},
   "outputs": [
    {
     "data": {
      "application/vnd.microsoft.datawrangler.viewer.v0+json": {
       "columns": [
        {
         "name": "index",
         "rawType": "object",
         "type": "string"
        },
        {
         "name": "0",
         "rawType": "object",
         "type": "unknown"
        }
       ],
       "ref": "a7183fa0-c243-4460-ad75-863122ebb360",
       "rows": [
        [
         "appId",
         "object"
        ],
        [
         "date",
         "object"
        ],
        [
         "dauReal",
         "float64"
        ],
        [
         "mauReal",
         "float64"
        ]
       ],
       "shape": {
        "columns": 1,
        "rows": 4
       }
      },
      "text/plain": [
       "appId       object\n",
       "date        object\n",
       "dauReal    float64\n",
       "mauReal    float64\n",
       "dtype: object"
      ]
     },
     "execution_count": 7,
     "metadata": {},
     "output_type": "execute_result"
    }
   ],
   "source": [
    "df_daumau.dtypes"
   ]
  },
  {
   "cell_type": "markdown",
   "id": "d9e26b74",
   "metadata": {},
   "source": [
    "Observei acima que o formato da variável date estava como um objeto, porém alterei para date, pois em etapas seguintes irá facilitar para um estudo de safras e dominio do campo."
   ]
  },
  {
   "cell_type": "code",
   "execution_count": 8,
   "id": "23c30c80",
   "metadata": {},
   "outputs": [],
   "source": [
    "df_daumau[\"date\"] = pd.to_datetime(df_daumau[\"date\"])"
   ]
  },
  {
   "cell_type": "markdown",
   "id": "2fd71921",
   "metadata": {},
   "source": [
    "**Verificação de dados duplicados**"
   ]
  },
  {
   "cell_type": "markdown",
   "id": "0c406906",
   "metadata": {},
   "source": [
    "Identifico que 153 registros estão completamente dúplicados na base"
   ]
  },
  {
   "cell_type": "code",
   "execution_count": 9,
   "id": "30ca1599",
   "metadata": {},
   "outputs": [
    {
     "data": {
      "text/plain": [
       "153"
      ]
     },
     "execution_count": 9,
     "metadata": {},
     "output_type": "execute_result"
    }
   ],
   "source": [
    "df_daumau.duplicated().sum()"
   ]
  },
  {
   "cell_type": "markdown",
   "id": "221fdb08",
   "metadata": {},
   "source": [
    "Observo que os mesmos 153 registros estão dúplicados quando coloco as chaves de ID e data, corroborando para serem um comportamento que não deveria estar presente, resolvo remover os dados duplicados."
   ]
  },
  {
   "cell_type": "code",
   "execution_count": 10,
   "id": "55a598ea",
   "metadata": {},
   "outputs": [
    {
     "data": {
      "text/plain": [
       "153"
      ]
     },
     "execution_count": 10,
     "metadata": {},
     "output_type": "execute_result"
    }
   ],
   "source": [
    "df_daumau.duplicated(subset=[\"appId\", \"date\"]).sum()"
   ]
  },
  {
   "cell_type": "code",
   "execution_count": 11,
   "id": "36888c16",
   "metadata": {},
   "outputs": [],
   "source": [
    "df_daumau = df_daumau.drop_duplicates()"
   ]
  },
  {
   "cell_type": "markdown",
   "id": "bd92ac62",
   "metadata": {},
   "source": [
    "**Verificação de dados nulos**"
   ]
  },
  {
   "cell_type": "markdown",
   "id": "3753ad67",
   "metadata": {},
   "source": [
    "Há presença de valores nulos nos campos appId, dauReal e mauReal, realizei os seguintes tratamentos:\n",
    "- **appId**: chave primaria, como não havia a possibilidade de juntar somente pelo campo date por conta de duplicação, foi necessário remover para que seja possivel juntar as tabelas.\n",
    "- **mauReal**:  Verifiquei qual a relação dos valores NAs desse campo com os demais, e observei que havia apenas um appID com esse comportamento, e como não era possivel reconstruir a partir do campo dauReal, decidi remover.\n",
    "- **dauReal**: Defini os valor nulos por 0, uma vez que o número de acessos no mês estava com valores preenchidos, assumindo que apenas não houve acesso naquele mês.\n"
   ]
  },
  {
   "cell_type": "code",
   "execution_count": 12,
   "id": "7708d460",
   "metadata": {},
   "outputs": [
    {
     "data": {
      "application/vnd.microsoft.datawrangler.viewer.v0+json": {
       "columns": [
        {
         "name": "index",
         "rawType": "object",
         "type": "string"
        },
        {
         "name": "0",
         "rawType": "int64",
         "type": "integer"
        }
       ],
       "ref": "548c85ff-1452-4d58-a33b-5dc728b9d566",
       "rows": [
        [
         "appId",
         "28"
        ],
        [
         "date",
         "0"
        ],
        [
         "dauReal",
         "194"
        ],
        [
         "mauReal",
         "20"
        ]
       ],
       "shape": {
        "columns": 1,
        "rows": 4
       }
      },
      "text/plain": [
       "appId       28\n",
       "date         0\n",
       "dauReal    194\n",
       "mauReal     20\n",
       "dtype: int64"
      ]
     },
     "execution_count": 12,
     "metadata": {},
     "output_type": "execute_result"
    }
   ],
   "source": [
    "df_daumau.isna().sum()"
   ]
  },
  {
   "cell_type": "code",
   "execution_count": 13,
   "id": "97c48af1",
   "metadata": {},
   "outputs": [
    {
     "data": {
      "application/vnd.microsoft.datawrangler.viewer.v0+json": {
       "columns": [
        {
         "name": "index",
         "rawType": "int64",
         "type": "integer"
        },
        {
         "name": "appId",
         "rawType": "object",
         "type": "unknown"
        },
        {
         "name": "date",
         "rawType": "datetime64[ns]",
         "type": "datetime"
        },
        {
         "name": "dauReal",
         "rawType": "float64",
         "type": "float"
        },
        {
         "name": "mauReal",
         "rawType": "float64",
         "type": "float"
        }
       ],
       "ref": "d53e762c-4058-4eee-9fd6-2a85c59674c3",
       "rows": [
        [
         "41271",
         null,
         "2220-07-21 00:00:00",
         "3671.0",
         "43502.0"
        ],
        [
         "41272",
         null,
         "2220-07-22 00:00:00",
         "11641.0",
         "123719.0"
        ],
        [
         "41273",
         null,
         "2220-07-23 00:00:00",
         "29128.0",
         "299245.0"
        ],
        [
         "41274",
         null,
         "2220-07-24 00:00:00",
         "300840.0",
         "2012700.0"
        ],
        [
         "41275",
         null,
         "2220-07-25 00:00:00",
         "18678.0",
         "184422.0"
        ],
        [
         "41276",
         null,
         "2220-07-26 00:00:00",
         "30026.0",
         "155138.0"
        ],
        [
         "41277",
         null,
         "2220-07-27 00:00:00",
         "882066.0",
         "2708497.0"
        ],
        [
         "41278",
         null,
         "2220-07-28 00:00:00",
         "31602.0",
         "191683.0"
        ],
        [
         "41279",
         null,
         "2220-07-29 00:00:00",
         "374946.0",
         "611578.0"
        ],
        [
         "41280",
         null,
         "2220-07-30 00:00:00",
         "15750.0",
         "106200.0"
        ],
        [
         "41281",
         null,
         "2220-07-31 00:00:00",
         "6728.0",
         "91481.0"
        ],
        [
         "41282",
         null,
         "2044-07-01 00:00:00",
         "15750.0",
         "106200.0"
        ],
        [
         "41283",
         null,
         "2044-07-02 00:00:00",
         "699329.0",
         "3558868.0"
        ],
        [
         "41284",
         null,
         "2044-07-03 00:00:00",
         "237488.0",
         "1141960.0"
        ],
        [
         "41285",
         null,
         "2044-07-04 00:00:00",
         "442440.0",
         "1848952.0"
        ],
        [
         "41286",
         null,
         "2044-07-05 00:00:00",
         "8227357.0",
         "19685101.0"
        ],
        [
         "41287",
         null,
         "2044-07-06 00:00:00",
         "980.0",
         "15857.0"
        ],
        [
         "41288",
         null,
         "2044-07-07 00:00:00",
         "1963.0",
         "26054.0"
        ],
        [
         "41289",
         null,
         "2044-07-08 00:00:00",
         "440589.0",
         "873420.0"
        ],
        [
         "41290",
         null,
         "2044-07-09 00:00:00",
         "30750.0",
         "157550.0"
        ],
        [
         "41291",
         null,
         "2044-07-10 00:00:00",
         "1907954.0",
         "5732349.0"
        ],
        [
         "41292",
         null,
         "2044-07-11 00:00:00",
         "398935.0",
         "715505.0"
        ],
        [
         "41293",
         null,
         "2044-07-12 00:00:00",
         "1517578.0",
         "6522681.0"
        ],
        [
         "41294",
         null,
         "2044-07-13 00:00:00",
         "130203.0",
         "578280.0"
        ],
        [
         "41295",
         null,
         "2044-07-14 00:00:00",
         "7412.0",
         "36137.0"
        ],
        [
         "41296",
         null,
         "2044-07-15 00:00:00",
         "81544.0",
         "854480.0"
        ],
        [
         "41297",
         null,
         "2044-07-16 00:00:00",
         "49957.0",
         "173394.0"
        ],
        [
         "41298",
         null,
         "2044-07-17 00:00:00",
         "1932.0",
         "16373.0"
        ]
       ],
       "shape": {
        "columns": 4,
        "rows": 28
       }
      },
      "text/html": [
       "<div>\n",
       "<style scoped>\n",
       "    .dataframe tbody tr th:only-of-type {\n",
       "        vertical-align: middle;\n",
       "    }\n",
       "\n",
       "    .dataframe tbody tr th {\n",
       "        vertical-align: top;\n",
       "    }\n",
       "\n",
       "    .dataframe thead th {\n",
       "        text-align: right;\n",
       "    }\n",
       "</style>\n",
       "<table border=\"1\" class=\"dataframe\">\n",
       "  <thead>\n",
       "    <tr style=\"text-align: right;\">\n",
       "      <th></th>\n",
       "      <th>appId</th>\n",
       "      <th>date</th>\n",
       "      <th>dauReal</th>\n",
       "      <th>mauReal</th>\n",
       "    </tr>\n",
       "  </thead>\n",
       "  <tbody>\n",
       "    <tr>\n",
       "      <th>41271</th>\n",
       "      <td>None</td>\n",
       "      <td>2220-07-21</td>\n",
       "      <td>3671.0</td>\n",
       "      <td>43502.0</td>\n",
       "    </tr>\n",
       "    <tr>\n",
       "      <th>41272</th>\n",
       "      <td>None</td>\n",
       "      <td>2220-07-22</td>\n",
       "      <td>11641.0</td>\n",
       "      <td>123719.0</td>\n",
       "    </tr>\n",
       "    <tr>\n",
       "      <th>41273</th>\n",
       "      <td>None</td>\n",
       "      <td>2220-07-23</td>\n",
       "      <td>29128.0</td>\n",
       "      <td>299245.0</td>\n",
       "    </tr>\n",
       "    <tr>\n",
       "      <th>41274</th>\n",
       "      <td>None</td>\n",
       "      <td>2220-07-24</td>\n",
       "      <td>300840.0</td>\n",
       "      <td>2012700.0</td>\n",
       "    </tr>\n",
       "    <tr>\n",
       "      <th>41275</th>\n",
       "      <td>None</td>\n",
       "      <td>2220-07-25</td>\n",
       "      <td>18678.0</td>\n",
       "      <td>184422.0</td>\n",
       "    </tr>\n",
       "    <tr>\n",
       "      <th>41276</th>\n",
       "      <td>None</td>\n",
       "      <td>2220-07-26</td>\n",
       "      <td>30026.0</td>\n",
       "      <td>155138.0</td>\n",
       "    </tr>\n",
       "    <tr>\n",
       "      <th>41277</th>\n",
       "      <td>None</td>\n",
       "      <td>2220-07-27</td>\n",
       "      <td>882066.0</td>\n",
       "      <td>2708497.0</td>\n",
       "    </tr>\n",
       "    <tr>\n",
       "      <th>41278</th>\n",
       "      <td>None</td>\n",
       "      <td>2220-07-28</td>\n",
       "      <td>31602.0</td>\n",
       "      <td>191683.0</td>\n",
       "    </tr>\n",
       "    <tr>\n",
       "      <th>41279</th>\n",
       "      <td>None</td>\n",
       "      <td>2220-07-29</td>\n",
       "      <td>374946.0</td>\n",
       "      <td>611578.0</td>\n",
       "    </tr>\n",
       "    <tr>\n",
       "      <th>41280</th>\n",
       "      <td>None</td>\n",
       "      <td>2220-07-30</td>\n",
       "      <td>15750.0</td>\n",
       "      <td>106200.0</td>\n",
       "    </tr>\n",
       "    <tr>\n",
       "      <th>41281</th>\n",
       "      <td>None</td>\n",
       "      <td>2220-07-31</td>\n",
       "      <td>6728.0</td>\n",
       "      <td>91481.0</td>\n",
       "    </tr>\n",
       "    <tr>\n",
       "      <th>41282</th>\n",
       "      <td>None</td>\n",
       "      <td>2044-07-01</td>\n",
       "      <td>15750.0</td>\n",
       "      <td>106200.0</td>\n",
       "    </tr>\n",
       "    <tr>\n",
       "      <th>41283</th>\n",
       "      <td>None</td>\n",
       "      <td>2044-07-02</td>\n",
       "      <td>699329.0</td>\n",
       "      <td>3558868.0</td>\n",
       "    </tr>\n",
       "    <tr>\n",
       "      <th>41284</th>\n",
       "      <td>None</td>\n",
       "      <td>2044-07-03</td>\n",
       "      <td>237488.0</td>\n",
       "      <td>1141960.0</td>\n",
       "    </tr>\n",
       "    <tr>\n",
       "      <th>41285</th>\n",
       "      <td>None</td>\n",
       "      <td>2044-07-04</td>\n",
       "      <td>442440.0</td>\n",
       "      <td>1848952.0</td>\n",
       "    </tr>\n",
       "    <tr>\n",
       "      <th>41286</th>\n",
       "      <td>None</td>\n",
       "      <td>2044-07-05</td>\n",
       "      <td>8227357.0</td>\n",
       "      <td>19685101.0</td>\n",
       "    </tr>\n",
       "    <tr>\n",
       "      <th>41287</th>\n",
       "      <td>None</td>\n",
       "      <td>2044-07-06</td>\n",
       "      <td>980.0</td>\n",
       "      <td>15857.0</td>\n",
       "    </tr>\n",
       "    <tr>\n",
       "      <th>41288</th>\n",
       "      <td>None</td>\n",
       "      <td>2044-07-07</td>\n",
       "      <td>1963.0</td>\n",
       "      <td>26054.0</td>\n",
       "    </tr>\n",
       "    <tr>\n",
       "      <th>41289</th>\n",
       "      <td>None</td>\n",
       "      <td>2044-07-08</td>\n",
       "      <td>440589.0</td>\n",
       "      <td>873420.0</td>\n",
       "    </tr>\n",
       "    <tr>\n",
       "      <th>41290</th>\n",
       "      <td>None</td>\n",
       "      <td>2044-07-09</td>\n",
       "      <td>30750.0</td>\n",
       "      <td>157550.0</td>\n",
       "    </tr>\n",
       "    <tr>\n",
       "      <th>41291</th>\n",
       "      <td>None</td>\n",
       "      <td>2044-07-10</td>\n",
       "      <td>1907954.0</td>\n",
       "      <td>5732349.0</td>\n",
       "    </tr>\n",
       "    <tr>\n",
       "      <th>41292</th>\n",
       "      <td>None</td>\n",
       "      <td>2044-07-11</td>\n",
       "      <td>398935.0</td>\n",
       "      <td>715505.0</td>\n",
       "    </tr>\n",
       "    <tr>\n",
       "      <th>41293</th>\n",
       "      <td>None</td>\n",
       "      <td>2044-07-12</td>\n",
       "      <td>1517578.0</td>\n",
       "      <td>6522681.0</td>\n",
       "    </tr>\n",
       "    <tr>\n",
       "      <th>41294</th>\n",
       "      <td>None</td>\n",
       "      <td>2044-07-13</td>\n",
       "      <td>130203.0</td>\n",
       "      <td>578280.0</td>\n",
       "    </tr>\n",
       "    <tr>\n",
       "      <th>41295</th>\n",
       "      <td>None</td>\n",
       "      <td>2044-07-14</td>\n",
       "      <td>7412.0</td>\n",
       "      <td>36137.0</td>\n",
       "    </tr>\n",
       "    <tr>\n",
       "      <th>41296</th>\n",
       "      <td>None</td>\n",
       "      <td>2044-07-15</td>\n",
       "      <td>81544.0</td>\n",
       "      <td>854480.0</td>\n",
       "    </tr>\n",
       "    <tr>\n",
       "      <th>41297</th>\n",
       "      <td>None</td>\n",
       "      <td>2044-07-16</td>\n",
       "      <td>49957.0</td>\n",
       "      <td>173394.0</td>\n",
       "    </tr>\n",
       "    <tr>\n",
       "      <th>41298</th>\n",
       "      <td>None</td>\n",
       "      <td>2044-07-17</td>\n",
       "      <td>1932.0</td>\n",
       "      <td>16373.0</td>\n",
       "    </tr>\n",
       "  </tbody>\n",
       "</table>\n",
       "</div>"
      ],
      "text/plain": [
       "      appId       date    dauReal     mauReal\n",
       "41271  None 2220-07-21     3671.0     43502.0\n",
       "41272  None 2220-07-22    11641.0    123719.0\n",
       "41273  None 2220-07-23    29128.0    299245.0\n",
       "41274  None 2220-07-24   300840.0   2012700.0\n",
       "41275  None 2220-07-25    18678.0    184422.0\n",
       "41276  None 2220-07-26    30026.0    155138.0\n",
       "41277  None 2220-07-27   882066.0   2708497.0\n",
       "41278  None 2220-07-28    31602.0    191683.0\n",
       "41279  None 2220-07-29   374946.0    611578.0\n",
       "41280  None 2220-07-30    15750.0    106200.0\n",
       "41281  None 2220-07-31     6728.0     91481.0\n",
       "41282  None 2044-07-01    15750.0    106200.0\n",
       "41283  None 2044-07-02   699329.0   3558868.0\n",
       "41284  None 2044-07-03   237488.0   1141960.0\n",
       "41285  None 2044-07-04   442440.0   1848952.0\n",
       "41286  None 2044-07-05  8227357.0  19685101.0\n",
       "41287  None 2044-07-06      980.0     15857.0\n",
       "41288  None 2044-07-07     1963.0     26054.0\n",
       "41289  None 2044-07-08   440589.0    873420.0\n",
       "41290  None 2044-07-09    30750.0    157550.0\n",
       "41291  None 2044-07-10  1907954.0   5732349.0\n",
       "41292  None 2044-07-11   398935.0    715505.0\n",
       "41293  None 2044-07-12  1517578.0   6522681.0\n",
       "41294  None 2044-07-13   130203.0    578280.0\n",
       "41295  None 2044-07-14     7412.0     36137.0\n",
       "41296  None 2044-07-15    81544.0    854480.0\n",
       "41297  None 2044-07-16    49957.0    173394.0\n",
       "41298  None 2044-07-17     1932.0     16373.0"
      ]
     },
     "execution_count": 13,
     "metadata": {},
     "output_type": "execute_result"
    }
   ],
   "source": [
    "df_daumau[df_daumau['appId'].isna()]"
   ]
  },
  {
   "cell_type": "code",
   "execution_count": 14,
   "id": "a35c6b47",
   "metadata": {},
   "outputs": [
    {
     "data": {
      "application/vnd.microsoft.datawrangler.viewer.v0+json": {
       "columns": [
        {
         "name": "index",
         "rawType": "int64",
         "type": "integer"
        },
        {
         "name": "appId",
         "rawType": "object",
         "type": "string"
        },
        {
         "name": "date",
         "rawType": "datetime64[ns]",
         "type": "datetime"
        },
        {
         "name": "dauReal",
         "rawType": "float64",
         "type": "float"
        },
        {
         "name": "mauReal",
         "rawType": "float64",
         "type": "float"
        }
       ],
       "ref": "7bad722c-18d6-4f6e-9793-14b438986047",
       "rows": [
        [
         "4989",
         "com.app.90128",
         "2024-01-12 00:00:00",
         "37330.0",
         null
        ],
        [
         "4990",
         "com.app.90128",
         "2024-01-13 00:00:00",
         "41617.0",
         null
        ],
        [
         "4991",
         "com.app.90128",
         "2024-01-14 00:00:00",
         "44214.0",
         null
        ],
        [
         "4992",
         "com.app.90128",
         "2024-01-15 00:00:00",
         "35283.0",
         null
        ],
        [
         "4993",
         "com.app.90128",
         "2024-01-16 00:00:00",
         "33946.0",
         null
        ],
        [
         "4994",
         "com.app.90128",
         "2024-01-17 00:00:00",
         "33953.0",
         null
        ],
        [
         "4995",
         "com.app.90128",
         "2024-01-18 00:00:00",
         "33183.0",
         null
        ],
        [
         "4996",
         "com.app.90128",
         "2024-01-19 00:00:00",
         "37418.0",
         null
        ],
        [
         "4997",
         "com.app.90128",
         "2024-01-20 00:00:00",
         "41012.0",
         null
        ],
        [
         "4998",
         "com.app.90128",
         "2024-01-21 00:00:00",
         "44668.0",
         null
        ],
        [
         "4999",
         "com.app.90128",
         "2024-01-22 00:00:00",
         "32527.0",
         null
        ],
        [
         "5000",
         "com.app.90128",
         "2024-01-23 00:00:00",
         "30323.0",
         null
        ],
        [
         "5001",
         "com.app.90128",
         "2024-01-24 00:00:00",
         "30210.0",
         null
        ],
        [
         "5002",
         "com.app.90128",
         "2024-01-25 00:00:00",
         "30968.0",
         null
        ],
        [
         "5003",
         "com.app.90128",
         "2024-01-26 00:00:00",
         "40924.0",
         null
        ],
        [
         "5004",
         "com.app.90128",
         "2024-01-27 00:00:00",
         "39943.0",
         null
        ],
        [
         "5005",
         "com.app.90128",
         "2024-01-28 00:00:00",
         "44172.0",
         null
        ],
        [
         "5006",
         "com.app.90128",
         "2024-01-29 00:00:00",
         "30098.0",
         null
        ],
        [
         "5007",
         "com.app.90128",
         "2024-01-30 00:00:00",
         "35324.0",
         null
        ],
        [
         "5008",
         "com.app.90128",
         "2024-01-31 00:00:00",
         "73944.0",
         null
        ]
       ],
       "shape": {
        "columns": 4,
        "rows": 20
       }
      },
      "text/html": [
       "<div>\n",
       "<style scoped>\n",
       "    .dataframe tbody tr th:only-of-type {\n",
       "        vertical-align: middle;\n",
       "    }\n",
       "\n",
       "    .dataframe tbody tr th {\n",
       "        vertical-align: top;\n",
       "    }\n",
       "\n",
       "    .dataframe thead th {\n",
       "        text-align: right;\n",
       "    }\n",
       "</style>\n",
       "<table border=\"1\" class=\"dataframe\">\n",
       "  <thead>\n",
       "    <tr style=\"text-align: right;\">\n",
       "      <th></th>\n",
       "      <th>appId</th>\n",
       "      <th>date</th>\n",
       "      <th>dauReal</th>\n",
       "      <th>mauReal</th>\n",
       "    </tr>\n",
       "  </thead>\n",
       "  <tbody>\n",
       "    <tr>\n",
       "      <th>4989</th>\n",
       "      <td>com.app.90128</td>\n",
       "      <td>2024-01-12</td>\n",
       "      <td>37330.0</td>\n",
       "      <td>NaN</td>\n",
       "    </tr>\n",
       "    <tr>\n",
       "      <th>4990</th>\n",
       "      <td>com.app.90128</td>\n",
       "      <td>2024-01-13</td>\n",
       "      <td>41617.0</td>\n",
       "      <td>NaN</td>\n",
       "    </tr>\n",
       "    <tr>\n",
       "      <th>4991</th>\n",
       "      <td>com.app.90128</td>\n",
       "      <td>2024-01-14</td>\n",
       "      <td>44214.0</td>\n",
       "      <td>NaN</td>\n",
       "    </tr>\n",
       "    <tr>\n",
       "      <th>4992</th>\n",
       "      <td>com.app.90128</td>\n",
       "      <td>2024-01-15</td>\n",
       "      <td>35283.0</td>\n",
       "      <td>NaN</td>\n",
       "    </tr>\n",
       "    <tr>\n",
       "      <th>4993</th>\n",
       "      <td>com.app.90128</td>\n",
       "      <td>2024-01-16</td>\n",
       "      <td>33946.0</td>\n",
       "      <td>NaN</td>\n",
       "    </tr>\n",
       "    <tr>\n",
       "      <th>4994</th>\n",
       "      <td>com.app.90128</td>\n",
       "      <td>2024-01-17</td>\n",
       "      <td>33953.0</td>\n",
       "      <td>NaN</td>\n",
       "    </tr>\n",
       "    <tr>\n",
       "      <th>4995</th>\n",
       "      <td>com.app.90128</td>\n",
       "      <td>2024-01-18</td>\n",
       "      <td>33183.0</td>\n",
       "      <td>NaN</td>\n",
       "    </tr>\n",
       "    <tr>\n",
       "      <th>4996</th>\n",
       "      <td>com.app.90128</td>\n",
       "      <td>2024-01-19</td>\n",
       "      <td>37418.0</td>\n",
       "      <td>NaN</td>\n",
       "    </tr>\n",
       "    <tr>\n",
       "      <th>4997</th>\n",
       "      <td>com.app.90128</td>\n",
       "      <td>2024-01-20</td>\n",
       "      <td>41012.0</td>\n",
       "      <td>NaN</td>\n",
       "    </tr>\n",
       "    <tr>\n",
       "      <th>4998</th>\n",
       "      <td>com.app.90128</td>\n",
       "      <td>2024-01-21</td>\n",
       "      <td>44668.0</td>\n",
       "      <td>NaN</td>\n",
       "    </tr>\n",
       "    <tr>\n",
       "      <th>4999</th>\n",
       "      <td>com.app.90128</td>\n",
       "      <td>2024-01-22</td>\n",
       "      <td>32527.0</td>\n",
       "      <td>NaN</td>\n",
       "    </tr>\n",
       "    <tr>\n",
       "      <th>5000</th>\n",
       "      <td>com.app.90128</td>\n",
       "      <td>2024-01-23</td>\n",
       "      <td>30323.0</td>\n",
       "      <td>NaN</td>\n",
       "    </tr>\n",
       "    <tr>\n",
       "      <th>5001</th>\n",
       "      <td>com.app.90128</td>\n",
       "      <td>2024-01-24</td>\n",
       "      <td>30210.0</td>\n",
       "      <td>NaN</td>\n",
       "    </tr>\n",
       "    <tr>\n",
       "      <th>5002</th>\n",
       "      <td>com.app.90128</td>\n",
       "      <td>2024-01-25</td>\n",
       "      <td>30968.0</td>\n",
       "      <td>NaN</td>\n",
       "    </tr>\n",
       "    <tr>\n",
       "      <th>5003</th>\n",
       "      <td>com.app.90128</td>\n",
       "      <td>2024-01-26</td>\n",
       "      <td>40924.0</td>\n",
       "      <td>NaN</td>\n",
       "    </tr>\n",
       "    <tr>\n",
       "      <th>5004</th>\n",
       "      <td>com.app.90128</td>\n",
       "      <td>2024-01-27</td>\n",
       "      <td>39943.0</td>\n",
       "      <td>NaN</td>\n",
       "    </tr>\n",
       "    <tr>\n",
       "      <th>5005</th>\n",
       "      <td>com.app.90128</td>\n",
       "      <td>2024-01-28</td>\n",
       "      <td>44172.0</td>\n",
       "      <td>NaN</td>\n",
       "    </tr>\n",
       "    <tr>\n",
       "      <th>5006</th>\n",
       "      <td>com.app.90128</td>\n",
       "      <td>2024-01-29</td>\n",
       "      <td>30098.0</td>\n",
       "      <td>NaN</td>\n",
       "    </tr>\n",
       "    <tr>\n",
       "      <th>5007</th>\n",
       "      <td>com.app.90128</td>\n",
       "      <td>2024-01-30</td>\n",
       "      <td>35324.0</td>\n",
       "      <td>NaN</td>\n",
       "    </tr>\n",
       "    <tr>\n",
       "      <th>5008</th>\n",
       "      <td>com.app.90128</td>\n",
       "      <td>2024-01-31</td>\n",
       "      <td>73944.0</td>\n",
       "      <td>NaN</td>\n",
       "    </tr>\n",
       "  </tbody>\n",
       "</table>\n",
       "</div>"
      ],
      "text/plain": [
       "              appId       date  dauReal  mauReal\n",
       "4989  com.app.90128 2024-01-12  37330.0      NaN\n",
       "4990  com.app.90128 2024-01-13  41617.0      NaN\n",
       "4991  com.app.90128 2024-01-14  44214.0      NaN\n",
       "4992  com.app.90128 2024-01-15  35283.0      NaN\n",
       "4993  com.app.90128 2024-01-16  33946.0      NaN\n",
       "4994  com.app.90128 2024-01-17  33953.0      NaN\n",
       "4995  com.app.90128 2024-01-18  33183.0      NaN\n",
       "4996  com.app.90128 2024-01-19  37418.0      NaN\n",
       "4997  com.app.90128 2024-01-20  41012.0      NaN\n",
       "4998  com.app.90128 2024-01-21  44668.0      NaN\n",
       "4999  com.app.90128 2024-01-22  32527.0      NaN\n",
       "5000  com.app.90128 2024-01-23  30323.0      NaN\n",
       "5001  com.app.90128 2024-01-24  30210.0      NaN\n",
       "5002  com.app.90128 2024-01-25  30968.0      NaN\n",
       "5003  com.app.90128 2024-01-26  40924.0      NaN\n",
       "5004  com.app.90128 2024-01-27  39943.0      NaN\n",
       "5005  com.app.90128 2024-01-28  44172.0      NaN\n",
       "5006  com.app.90128 2024-01-29  30098.0      NaN\n",
       "5007  com.app.90128 2024-01-30  35324.0      NaN\n",
       "5008  com.app.90128 2024-01-31  73944.0      NaN"
      ]
     },
     "execution_count": 14,
     "metadata": {},
     "output_type": "execute_result"
    }
   ],
   "source": [
    "df_daumau[df_daumau['mauReal'].isna()]"
   ]
  },
  {
   "cell_type": "code",
   "execution_count": 15,
   "id": "c5cf9205",
   "metadata": {},
   "outputs": [
    {
     "data": {
      "application/vnd.microsoft.datawrangler.viewer.v0+json": {
       "columns": [
        {
         "name": "index",
         "rawType": "int64",
         "type": "integer"
        },
        {
         "name": "appId",
         "rawType": "object",
         "type": "string"
        },
        {
         "name": "date",
         "rawType": "datetime64[ns]",
         "type": "datetime"
        },
        {
         "name": "dauReal",
         "rawType": "float64",
         "type": "float"
        },
        {
         "name": "mauReal",
         "rawType": "float64",
         "type": "float"
        }
       ],
       "ref": "e069ef2a-8cdd-447d-b3cf-c443385c2686",
       "rows": [
        [
         "3038",
         "com.app.20651",
         "2024-01-02 00:00:00",
         null,
         "2266.0"
        ],
        [
         "3039",
         "com.app.20651",
         "2024-01-04 00:00:00",
         null,
         "2234.0"
        ],
        [
         "3040",
         "com.app.20651",
         "2024-01-05 00:00:00",
         null,
         "2326.0"
        ],
        [
         "3041",
         "com.app.20651",
         "2024-01-07 00:00:00",
         null,
         "2257.0"
        ],
        [
         "3042",
         "com.app.20651",
         "2024-01-08 00:00:00",
         null,
         "2266.0"
        ],
        [
         "3043",
         "com.app.20651",
         "2024-01-09 00:00:00",
         null,
         "2405.0"
        ],
        [
         "3044",
         "com.app.20651",
         "2024-01-10 00:00:00",
         null,
         "2362.0"
        ],
        [
         "3045",
         "com.app.20651",
         "2024-01-11 00:00:00",
         null,
         "2385.0"
        ],
        [
         "3046",
         "com.app.20651",
         "2024-01-12 00:00:00",
         null,
         "2248.0"
        ],
        [
         "3047",
         "com.app.20651",
         "2024-01-13 00:00:00",
         null,
         "2432.0"
        ],
        [
         "3048",
         "com.app.20651",
         "2024-01-15 00:00:00",
         null,
         "2311.0"
        ],
        [
         "3049",
         "com.app.20651",
         "2024-01-17 00:00:00",
         null,
         "2410.0"
        ],
        [
         "3050",
         "com.app.20651",
         "2024-01-18 00:00:00",
         null,
         "2388.0"
        ],
        [
         "3051",
         "com.app.20651",
         "2024-01-19 00:00:00",
         null,
         "2378.0"
        ],
        [
         "3052",
         "com.app.20651",
         "2024-01-20 00:00:00",
         null,
         "2435.0"
        ],
        [
         "3053",
         "com.app.20651",
         "2024-01-22 00:00:00",
         null,
         "2363.0"
        ],
        [
         "3066",
         "com.app.79907",
         "2024-01-01 00:00:00",
         null,
         "5475.0"
        ],
        [
         "3067",
         "com.app.79907",
         "2024-01-03 00:00:00",
         null,
         "5797.0"
        ],
        [
         "3068",
         "com.app.79907",
         "2024-01-04 00:00:00",
         null,
         "5905.0"
        ],
        [
         "3069",
         "com.app.79907",
         "2024-01-05 00:00:00",
         null,
         "5820.0"
        ],
        [
         "3070",
         "com.app.79907",
         "2024-01-06 00:00:00",
         null,
         "5710.0"
        ],
        [
         "3071",
         "com.app.79907",
         "2024-01-07 00:00:00",
         null,
         "5741.0"
        ],
        [
         "3072",
         "com.app.79907",
         "2024-01-08 00:00:00",
         null,
         "5659.0"
        ],
        [
         "3073",
         "com.app.79907",
         "2024-01-09 00:00:00",
         null,
         "5744.0"
        ],
        [
         "3074",
         "com.app.79907",
         "2024-01-10 00:00:00",
         null,
         "5649.0"
        ],
        [
         "3075",
         "com.app.79907",
         "2024-01-11 00:00:00",
         null,
         "5659.0"
        ],
        [
         "3076",
         "com.app.79907",
         "2024-01-12 00:00:00",
         null,
         "5691.0"
        ],
        [
         "3077",
         "com.app.79907",
         "2024-01-13 00:00:00",
         null,
         "5634.0"
        ],
        [
         "3078",
         "com.app.79907",
         "2024-01-14 00:00:00",
         null,
         "5580.0"
        ],
        [
         "3079",
         "com.app.79907",
         "2024-01-15 00:00:00",
         null,
         "5583.0"
        ],
        [
         "3080",
         "com.app.79907",
         "2024-01-16 00:00:00",
         null,
         "5589.0"
        ],
        [
         "3081",
         "com.app.79907",
         "2024-01-17 00:00:00",
         null,
         "5535.0"
        ],
        [
         "3082",
         "com.app.79907",
         "2024-01-18 00:00:00",
         null,
         "5500.0"
        ],
        [
         "3083",
         "com.app.79907",
         "2024-01-19 00:00:00",
         null,
         "5538.0"
        ],
        [
         "3084",
         "com.app.79907",
         "2024-01-20 00:00:00",
         null,
         "5488.0"
        ],
        [
         "3085",
         "com.app.79907",
         "2024-01-21 00:00:00",
         null,
         "5522.0"
        ],
        [
         "3086",
         "com.app.79907",
         "2024-01-22 00:00:00",
         null,
         "5497.0"
        ],
        [
         "5137",
         "com.app.13071",
         "2024-01-13 00:00:00",
         null,
         "4393.0"
        ],
        [
         "5138",
         "com.app.13071",
         "2024-01-14 00:00:00",
         null,
         "4337.0"
        ],
        [
         "5139",
         "com.app.13071",
         "2024-01-15 00:00:00",
         null,
         "4374.0"
        ],
        [
         "5140",
         "com.app.13071",
         "2024-01-16 00:00:00",
         null,
         "4477.0"
        ],
        [
         "5141",
         "com.app.13071",
         "2024-01-17 00:00:00",
         null,
         "4394.0"
        ],
        [
         "5142",
         "com.app.13071",
         "2024-01-18 00:00:00",
         null,
         "4490.0"
        ],
        [
         "5143",
         "com.app.13071",
         "2024-01-19 00:00:00",
         null,
         "4465.0"
        ],
        [
         "5144",
         "com.app.13071",
         "2024-01-20 00:00:00",
         null,
         "4546.0"
        ],
        [
         "5145",
         "com.app.13071",
         "2024-01-21 00:00:00",
         null,
         "4538.0"
        ],
        [
         "5146",
         "com.app.13071",
         "2024-01-22 00:00:00",
         null,
         "4617.0"
        ],
        [
         "5147",
         "com.app.13071",
         "2024-01-23 00:00:00",
         null,
         "4476.0"
        ],
        [
         "5148",
         "com.app.13071",
         "2024-01-24 00:00:00",
         null,
         "4426.0"
        ],
        [
         "5149",
         "com.app.13071",
         "2024-01-25 00:00:00",
         null,
         "4525.0"
        ]
       ],
       "shape": {
        "columns": 4,
        "rows": 194
       }
      },
      "text/html": [
       "<div>\n",
       "<style scoped>\n",
       "    .dataframe tbody tr th:only-of-type {\n",
       "        vertical-align: middle;\n",
       "    }\n",
       "\n",
       "    .dataframe tbody tr th {\n",
       "        vertical-align: top;\n",
       "    }\n",
       "\n",
       "    .dataframe thead th {\n",
       "        text-align: right;\n",
       "    }\n",
       "</style>\n",
       "<table border=\"1\" class=\"dataframe\">\n",
       "  <thead>\n",
       "    <tr style=\"text-align: right;\">\n",
       "      <th></th>\n",
       "      <th>appId</th>\n",
       "      <th>date</th>\n",
       "      <th>dauReal</th>\n",
       "      <th>mauReal</th>\n",
       "    </tr>\n",
       "  </thead>\n",
       "  <tbody>\n",
       "    <tr>\n",
       "      <th>3038</th>\n",
       "      <td>com.app.20651</td>\n",
       "      <td>2024-01-02</td>\n",
       "      <td>NaN</td>\n",
       "      <td>2266.0</td>\n",
       "    </tr>\n",
       "    <tr>\n",
       "      <th>3039</th>\n",
       "      <td>com.app.20651</td>\n",
       "      <td>2024-01-04</td>\n",
       "      <td>NaN</td>\n",
       "      <td>2234.0</td>\n",
       "    </tr>\n",
       "    <tr>\n",
       "      <th>3040</th>\n",
       "      <td>com.app.20651</td>\n",
       "      <td>2024-01-05</td>\n",
       "      <td>NaN</td>\n",
       "      <td>2326.0</td>\n",
       "    </tr>\n",
       "    <tr>\n",
       "      <th>3041</th>\n",
       "      <td>com.app.20651</td>\n",
       "      <td>2024-01-07</td>\n",
       "      <td>NaN</td>\n",
       "      <td>2257.0</td>\n",
       "    </tr>\n",
       "    <tr>\n",
       "      <th>3042</th>\n",
       "      <td>com.app.20651</td>\n",
       "      <td>2024-01-08</td>\n",
       "      <td>NaN</td>\n",
       "      <td>2266.0</td>\n",
       "    </tr>\n",
       "    <tr>\n",
       "      <th>...</th>\n",
       "      <td>...</td>\n",
       "      <td>...</td>\n",
       "      <td>...</td>\n",
       "      <td>...</td>\n",
       "    </tr>\n",
       "    <tr>\n",
       "      <th>24072</th>\n",
       "      <td>com.app.13071</td>\n",
       "      <td>2024-06-04</td>\n",
       "      <td>NaN</td>\n",
       "      <td>2688.0</td>\n",
       "    </tr>\n",
       "    <tr>\n",
       "      <th>24073</th>\n",
       "      <td>com.app.13071</td>\n",
       "      <td>2024-06-05</td>\n",
       "      <td>NaN</td>\n",
       "      <td>2695.0</td>\n",
       "    </tr>\n",
       "    <tr>\n",
       "      <th>24074</th>\n",
       "      <td>com.app.13071</td>\n",
       "      <td>2024-06-06</td>\n",
       "      <td>NaN</td>\n",
       "      <td>2675.0</td>\n",
       "    </tr>\n",
       "    <tr>\n",
       "      <th>24075</th>\n",
       "      <td>com.app.13071</td>\n",
       "      <td>2024-06-07</td>\n",
       "      <td>NaN</td>\n",
       "      <td>2632.0</td>\n",
       "    </tr>\n",
       "    <tr>\n",
       "      <th>24076</th>\n",
       "      <td>com.app.13071</td>\n",
       "      <td>2024-06-08</td>\n",
       "      <td>NaN</td>\n",
       "      <td>2695.0</td>\n",
       "    </tr>\n",
       "  </tbody>\n",
       "</table>\n",
       "<p>194 rows × 4 columns</p>\n",
       "</div>"
      ],
      "text/plain": [
       "               appId       date  dauReal  mauReal\n",
       "3038   com.app.20651 2024-01-02      NaN   2266.0\n",
       "3039   com.app.20651 2024-01-04      NaN   2234.0\n",
       "3040   com.app.20651 2024-01-05      NaN   2326.0\n",
       "3041   com.app.20651 2024-01-07      NaN   2257.0\n",
       "3042   com.app.20651 2024-01-08      NaN   2266.0\n",
       "...              ...        ...      ...      ...\n",
       "24072  com.app.13071 2024-06-04      NaN   2688.0\n",
       "24073  com.app.13071 2024-06-05      NaN   2695.0\n",
       "24074  com.app.13071 2024-06-06      NaN   2675.0\n",
       "24075  com.app.13071 2024-06-07      NaN   2632.0\n",
       "24076  com.app.13071 2024-06-08      NaN   2695.0\n",
       "\n",
       "[194 rows x 4 columns]"
      ]
     },
     "execution_count": 15,
     "metadata": {},
     "output_type": "execute_result"
    }
   ],
   "source": [
    "df_daumau[~df_daumau['mauReal'].isna() & df_daumau['dauReal'].isna()]"
   ]
  },
  {
   "cell_type": "code",
   "execution_count": 16,
   "id": "72a499cd",
   "metadata": {},
   "outputs": [],
   "source": [
    "df_daumau = df_daumau.dropna(subset=['appId','mauReal'], how='any')\n",
    "df_daumau['dauReal'] = df_daumau['dauReal'].fillna(0)"
   ]
  },
  {
   "cell_type": "markdown",
   "id": "565fd08d",
   "metadata": {},
   "source": [
    "## Desinstalações - Tabela com informações referente a desinstalações"
   ]
  },
  {
   "cell_type": "markdown",
   "id": "f8c0d19e",
   "metadata": {},
   "source": [
    "- **country** país em que o app é utilizado\n",
    "- **lang** lingua/idioma do país onde o app é utilizado\n",
    "- **predictionLoss**:"
   ]
  },
  {
   "cell_type": "code",
   "execution_count": 17,
   "id": "fbefa478",
   "metadata": {},
   "outputs": [
    {
     "data": {
      "application/vnd.microsoft.datawrangler.viewer.v0+json": {
       "columns": [
        {
         "name": "index",
         "rawType": "int64",
         "type": "integer"
        },
        {
         "name": "appId",
         "rawType": "object",
         "type": "string"
        },
        {
         "name": "date",
         "rawType": "datetime64[ns]",
         "type": "datetime"
        },
        {
         "name": "country",
         "rawType": "object",
         "type": "string"
        },
        {
         "name": "lang",
         "rawType": "object",
         "type": "string"
        },
        {
         "name": "predictionLoss",
         "rawType": "int64",
         "type": "integer"
        }
       ],
       "ref": "fb9fb420-9a2d-4e7c-a44e-e9b8622ee534",
       "rows": [
        [
         "0",
         "com.app.71740",
         "2024-01-01 00:00:00",
         "br",
         "pt",
         "1463"
        ],
        [
         "1",
         "com.app.33540",
         "2024-01-01 00:00:00",
         "br",
         "pt",
         "8170"
        ],
        [
         "2",
         "com.app.19544",
         "2024-01-01 00:00:00",
         "br",
         "pt",
         "77048"
        ],
        [
         "3",
         "com.app.77385",
         "2024-01-01 00:00:00",
         "br",
         "pt",
         "4497"
        ],
        [
         "4",
         "com.app.31679",
         "2024-01-01 00:00:00",
         "br",
         "pt",
         "4287"
        ]
       ],
       "shape": {
        "columns": 5,
        "rows": 5
       }
      },
      "text/html": [
       "<div>\n",
       "<style scoped>\n",
       "    .dataframe tbody tr th:only-of-type {\n",
       "        vertical-align: middle;\n",
       "    }\n",
       "\n",
       "    .dataframe tbody tr th {\n",
       "        vertical-align: top;\n",
       "    }\n",
       "\n",
       "    .dataframe thead th {\n",
       "        text-align: right;\n",
       "    }\n",
       "</style>\n",
       "<table border=\"1\" class=\"dataframe\">\n",
       "  <thead>\n",
       "    <tr style=\"text-align: right;\">\n",
       "      <th></th>\n",
       "      <th>appId</th>\n",
       "      <th>date</th>\n",
       "      <th>country</th>\n",
       "      <th>lang</th>\n",
       "      <th>predictionLoss</th>\n",
       "    </tr>\n",
       "  </thead>\n",
       "  <tbody>\n",
       "    <tr>\n",
       "      <th>0</th>\n",
       "      <td>com.app.71740</td>\n",
       "      <td>2024-01-01</td>\n",
       "      <td>br</td>\n",
       "      <td>pt</td>\n",
       "      <td>1463</td>\n",
       "    </tr>\n",
       "    <tr>\n",
       "      <th>1</th>\n",
       "      <td>com.app.33540</td>\n",
       "      <td>2024-01-01</td>\n",
       "      <td>br</td>\n",
       "      <td>pt</td>\n",
       "      <td>8170</td>\n",
       "    </tr>\n",
       "    <tr>\n",
       "      <th>2</th>\n",
       "      <td>com.app.19544</td>\n",
       "      <td>2024-01-01</td>\n",
       "      <td>br</td>\n",
       "      <td>pt</td>\n",
       "      <td>77048</td>\n",
       "    </tr>\n",
       "    <tr>\n",
       "      <th>3</th>\n",
       "      <td>com.app.77385</td>\n",
       "      <td>2024-01-01</td>\n",
       "      <td>br</td>\n",
       "      <td>pt</td>\n",
       "      <td>4497</td>\n",
       "    </tr>\n",
       "    <tr>\n",
       "      <th>4</th>\n",
       "      <td>com.app.31679</td>\n",
       "      <td>2024-01-01</td>\n",
       "      <td>br</td>\n",
       "      <td>pt</td>\n",
       "      <td>4287</td>\n",
       "    </tr>\n",
       "  </tbody>\n",
       "</table>\n",
       "</div>"
      ],
      "text/plain": [
       "           appId       date country lang  predictionLoss\n",
       "0  com.app.71740 2024-01-01      br   pt            1463\n",
       "1  com.app.33540 2024-01-01      br   pt            8170\n",
       "2  com.app.19544 2024-01-01      br   pt           77048\n",
       "3  com.app.77385 2024-01-01      br   pt            4497\n",
       "4  com.app.31679 2024-01-01      br   pt            4287"
      ]
     },
     "execution_count": 17,
     "metadata": {},
     "output_type": "execute_result"
    }
   ],
   "source": [
    "df_desinstalacoes.head()"
   ]
  },
  {
   "cell_type": "markdown",
   "id": "ed2f54b7",
   "metadata": {},
   "source": [
    "**Verificação de tamanho**"
   ]
  },
  {
   "cell_type": "markdown",
   "id": "b1ec123a",
   "metadata": {},
   "source": [
    "Busco entender as dimensões da base que estou trabalhando."
   ]
  },
  {
   "cell_type": "code",
   "execution_count": 18,
   "id": "c9b0a3d2",
   "metadata": {},
   "outputs": [
    {
     "data": {
      "text/plain": [
       "(53188, 5)"
      ]
     },
     "execution_count": 18,
     "metadata": {},
     "output_type": "execute_result"
    }
   ],
   "source": [
    "df_desinstalacoes.shape"
   ]
  },
  {
   "cell_type": "markdown",
   "id": "9156f7b1",
   "metadata": {},
   "source": [
    "**Verificação de tipagem**"
   ]
  },
  {
   "cell_type": "markdown",
   "id": "49308311",
   "metadata": {},
   "source": [
    "Verificando os tipos das variaveis do dataset, verificando se há algum campo que precise de ajustes."
   ]
  },
  {
   "cell_type": "code",
   "execution_count": 19,
   "id": "1d74d20c",
   "metadata": {},
   "outputs": [
    {
     "data": {
      "application/vnd.microsoft.datawrangler.viewer.v0+json": {
       "columns": [
        {
         "name": "index",
         "rawType": "object",
         "type": "string"
        },
        {
         "name": "0",
         "rawType": "object",
         "type": "unknown"
        }
       ],
       "ref": "85416457-08ec-4bf4-b37f-485985046338",
       "rows": [
        [
         "appId",
         "object"
        ],
        [
         "date",
         "datetime64[ns]"
        ],
        [
         "country",
         "object"
        ],
        [
         "lang",
         "object"
        ],
        [
         "predictionLoss",
         "int64"
        ]
       ],
       "shape": {
        "columns": 1,
        "rows": 5
       }
      },
      "text/plain": [
       "appId                     object\n",
       "date              datetime64[ns]\n",
       "country                   object\n",
       "lang                      object\n",
       "predictionLoss             int64\n",
       "dtype: object"
      ]
     },
     "execution_count": 19,
     "metadata": {},
     "output_type": "execute_result"
    }
   ],
   "source": [
    "df_desinstalacoes.dtypes"
   ]
  },
  {
   "cell_type": "markdown",
   "id": "9918135f",
   "metadata": {},
   "source": [
    "**Verificação de dados duplicados**"
   ]
  },
  {
   "cell_type": "markdown",
   "id": "c3e3e495",
   "metadata": {},
   "source": [
    "Não há dados duplicados que possam ser problema"
   ]
  },
  {
   "cell_type": "code",
   "execution_count": 20,
   "id": "34b00a26",
   "metadata": {},
   "outputs": [
    {
     "data": {
      "text/plain": [
       "0"
      ]
     },
     "execution_count": 20,
     "metadata": {},
     "output_type": "execute_result"
    }
   ],
   "source": [
    "df_desinstalacoes.duplicated().sum()"
   ]
  },
  {
   "cell_type": "markdown",
   "id": "65d42928",
   "metadata": {},
   "source": [
    "**Verificação de dados nulos**"
   ]
  },
  {
   "cell_type": "markdown",
   "id": "db274162",
   "metadata": {},
   "source": [
    "Não há presença de valores NAs, não havendo necessidade de ajustes"
   ]
  },
  {
   "cell_type": "code",
   "execution_count": 21,
   "id": "701c5ce3",
   "metadata": {},
   "outputs": [
    {
     "data": {
      "application/vnd.microsoft.datawrangler.viewer.v0+json": {
       "columns": [
        {
         "name": "index",
         "rawType": "object",
         "type": "string"
        },
        {
         "name": "0",
         "rawType": "int64",
         "type": "integer"
        }
       ],
       "ref": "e641183b-d9cc-4b2d-b22c-7a3d4bad5379",
       "rows": [
        [
         "appId",
         "0"
        ],
        [
         "date",
         "0"
        ],
        [
         "dauReal",
         "0"
        ],
        [
         "mauReal",
         "0"
        ]
       ],
       "shape": {
        "columns": 1,
        "rows": 4
       }
      },
      "text/plain": [
       "appId      0\n",
       "date       0\n",
       "dauReal    0\n",
       "mauReal    0\n",
       "dtype: int64"
      ]
     },
     "execution_count": 21,
     "metadata": {},
     "output_type": "execute_result"
    }
   ],
   "source": [
    "df_daumau.isna().sum()"
   ]
  },
  {
   "cell_type": "markdown",
   "id": "a20079f2",
   "metadata": {},
   "source": [
    "## Instalações - Tabela com informações de instalações realizadas"
   ]
  },
  {
   "cell_type": "markdown",
   "id": "c30cec04",
   "metadata": {},
   "source": [
    "Crio uma documentação com base no entendimento do dado\n",
    "\n",
    "- **appId**: Chave unica de agrupamento do aplicativo\n",
    "- **date**: Data de referência do registro\n",
    "- **newinstalls**: Número de instalações na data de referência"
   ]
  },
  {
   "cell_type": "code",
   "execution_count": 22,
   "id": "7a8bc9c9",
   "metadata": {},
   "outputs": [
    {
     "data": {
      "application/vnd.microsoft.datawrangler.viewer.v0+json": {
       "columns": [
        {
         "name": "index",
         "rawType": "int64",
         "type": "integer"
        },
        {
         "name": "appid",
         "rawType": "object",
         "type": "string"
        },
        {
         "name": "date",
         "rawType": "datetime64[ns]",
         "type": "datetime"
        },
        {
         "name": "newinstalls",
         "rawType": "int64",
         "type": "integer"
        }
       ],
       "ref": "cc21baaa-726d-4edb-abc9-63aa1ab8f4bc",
       "rows": [
        [
         "0",
         "com.app.86367",
         "2024-01-01 00:00:00",
         "1968"
        ],
        [
         "1",
         "com.app.18711",
         "2024-01-01 00:00:00",
         "1364"
        ],
        [
         "2",
         "com.app.36257",
         "2024-01-01 00:00:00",
         "7511"
        ],
        [
         "3",
         "com.app.88509",
         "2024-01-01 00:00:00",
         "53137"
        ],
        [
         "4",
         "com.app.93131",
         "2024-01-01 00:00:00",
         "137"
        ]
       ],
       "shape": {
        "columns": 3,
        "rows": 5
       }
      },
      "text/html": [
       "<div>\n",
       "<style scoped>\n",
       "    .dataframe tbody tr th:only-of-type {\n",
       "        vertical-align: middle;\n",
       "    }\n",
       "\n",
       "    .dataframe tbody tr th {\n",
       "        vertical-align: top;\n",
       "    }\n",
       "\n",
       "    .dataframe thead th {\n",
       "        text-align: right;\n",
       "    }\n",
       "</style>\n",
       "<table border=\"1\" class=\"dataframe\">\n",
       "  <thead>\n",
       "    <tr style=\"text-align: right;\">\n",
       "      <th></th>\n",
       "      <th>appid</th>\n",
       "      <th>date</th>\n",
       "      <th>newinstalls</th>\n",
       "    </tr>\n",
       "  </thead>\n",
       "  <tbody>\n",
       "    <tr>\n",
       "      <th>0</th>\n",
       "      <td>com.app.86367</td>\n",
       "      <td>2024-01-01</td>\n",
       "      <td>1968</td>\n",
       "    </tr>\n",
       "    <tr>\n",
       "      <th>1</th>\n",
       "      <td>com.app.18711</td>\n",
       "      <td>2024-01-01</td>\n",
       "      <td>1364</td>\n",
       "    </tr>\n",
       "    <tr>\n",
       "      <th>2</th>\n",
       "      <td>com.app.36257</td>\n",
       "      <td>2024-01-01</td>\n",
       "      <td>7511</td>\n",
       "    </tr>\n",
       "    <tr>\n",
       "      <th>3</th>\n",
       "      <td>com.app.88509</td>\n",
       "      <td>2024-01-01</td>\n",
       "      <td>53137</td>\n",
       "    </tr>\n",
       "    <tr>\n",
       "      <th>4</th>\n",
       "      <td>com.app.93131</td>\n",
       "      <td>2024-01-01</td>\n",
       "      <td>137</td>\n",
       "    </tr>\n",
       "  </tbody>\n",
       "</table>\n",
       "</div>"
      ],
      "text/plain": [
       "           appid       date  newinstalls\n",
       "0  com.app.86367 2024-01-01         1968\n",
       "1  com.app.18711 2024-01-01         1364\n",
       "2  com.app.36257 2024-01-01         7511\n",
       "3  com.app.88509 2024-01-01        53137\n",
       "4  com.app.93131 2024-01-01          137"
      ]
     },
     "execution_count": 22,
     "metadata": {},
     "output_type": "execute_result"
    }
   ],
   "source": [
    "df_instalacoes.head()"
   ]
  },
  {
   "cell_type": "markdown",
   "id": "6a49d8ca",
   "metadata": {},
   "source": [
    "**Verificação de tamanho**"
   ]
  },
  {
   "cell_type": "code",
   "execution_count": 23,
   "id": "2fed7559",
   "metadata": {},
   "outputs": [
    {
     "data": {
      "text/plain": [
       "(48150, 3)"
      ]
     },
     "execution_count": 23,
     "metadata": {},
     "output_type": "execute_result"
    }
   ],
   "source": [
    "df_instalacoes.shape"
   ]
  },
  {
   "cell_type": "markdown",
   "id": "c1a95ee8",
   "metadata": {},
   "source": [
    "**Verificação de tipagem**"
   ]
  },
  {
   "cell_type": "code",
   "execution_count": 24,
   "id": "2ad4d948",
   "metadata": {},
   "outputs": [
    {
     "data": {
      "application/vnd.microsoft.datawrangler.viewer.v0+json": {
       "columns": [
        {
         "name": "index",
         "rawType": "object",
         "type": "string"
        },
        {
         "name": "0",
         "rawType": "object",
         "type": "unknown"
        }
       ],
       "ref": "803f4bfe-7d01-4804-b8fb-bfeee3945f63",
       "rows": [
        [
         "appid",
         "object"
        ],
        [
         "date",
         "datetime64[ns]"
        ],
        [
         "newinstalls",
         "int64"
        ]
       ],
       "shape": {
        "columns": 1,
        "rows": 3
       }
      },
      "text/plain": [
       "appid                  object\n",
       "date           datetime64[ns]\n",
       "newinstalls             int64\n",
       "dtype: object"
      ]
     },
     "execution_count": 24,
     "metadata": {},
     "output_type": "execute_result"
    }
   ],
   "source": [
    "df_instalacoes.dtypes"
   ]
  },
  {
   "cell_type": "markdown",
   "id": "a7af8cba",
   "metadata": {},
   "source": [
    "**Verificação de dados duplicados**"
   ]
  },
  {
   "cell_type": "code",
   "execution_count": 25,
   "id": "cf304d68",
   "metadata": {},
   "outputs": [
    {
     "data": {
      "text/plain": [
       "0"
      ]
     },
     "execution_count": 25,
     "metadata": {},
     "output_type": "execute_result"
    }
   ],
   "source": [
    "df_daumau.duplicated().sum()"
   ]
  },
  {
   "cell_type": "markdown",
   "id": "2a9cf41c",
   "metadata": {},
   "source": [
    "**Verificação de dados nulos**"
   ]
  },
  {
   "cell_type": "code",
   "execution_count": 26,
   "id": "6366f771",
   "metadata": {},
   "outputs": [
    {
     "data": {
      "application/vnd.microsoft.datawrangler.viewer.v0+json": {
       "columns": [
        {
         "name": "index",
         "rawType": "object",
         "type": "string"
        },
        {
         "name": "0",
         "rawType": "int64",
         "type": "integer"
        }
       ],
       "ref": "dc142035-ca32-431d-afc4-346dc4d636c6",
       "rows": [
        [
         "appId",
         "0"
        ],
        [
         "date",
         "0"
        ],
        [
         "dauReal",
         "0"
        ],
        [
         "mauReal",
         "0"
        ]
       ],
       "shape": {
        "columns": 1,
        "rows": 4
       }
      },
      "text/plain": [
       "appId      0\n",
       "date       0\n",
       "dauReal    0\n",
       "mauReal    0\n",
       "dtype: int64"
      ]
     },
     "execution_count": 26,
     "metadata": {},
     "output_type": "execute_result"
    }
   ],
   "source": [
    "df_daumau.isna().sum()"
   ]
  },
  {
   "cell_type": "markdown",
   "id": "2d00e7d8",
   "metadata": {},
   "source": [
    "## Reviews - Tabela com informações de rating e reviews"
   ]
  },
  {
   "cell_type": "markdown",
   "id": "c502e24d",
   "metadata": {},
   "source": [
    "Crio uma documentação com base no entendimento do dado\n",
    "\n",
    "- **category**: Categoria de segmento de mercado do aplicativo\n",
    "- **ratings**: Quantidade notas acumuladas do aplicativo\n",
    "- **daily_ratings**: Quantidade de notas na data de referência\n",
    "- **reviews**: Quantidade de avaliações acumuladas do aplicativo\n",
    "- **daily_reviews**: Quantidade de avaliações na data de referência"
   ]
  },
  {
   "cell_type": "code",
   "execution_count": 27,
   "id": "110a7b34",
   "metadata": {},
   "outputs": [
    {
     "data": {
      "application/vnd.microsoft.datawrangler.viewer.v0+json": {
       "columns": [
        {
         "name": "index",
         "rawType": "int64",
         "type": "integer"
        },
        {
         "name": "date",
         "rawType": "object",
         "type": "unknown"
        },
        {
         "name": "appid",
         "rawType": "object",
         "type": "string"
        },
        {
         "name": "category",
         "rawType": "object",
         "type": "string"
        },
        {
         "name": "ratings",
         "rawType": "float64",
         "type": "float"
        },
        {
         "name": "daily_ratings",
         "rawType": "float64",
         "type": "float"
        },
        {
         "name": "reviews",
         "rawType": "float64",
         "type": "float"
        },
        {
         "name": "daily_reviews",
         "rawType": "float64",
         "type": "float"
        }
       ],
       "ref": "daeb8f9c-aa52-4a29-9716-c939cf1852bf",
       "rows": [
        [
         "0",
         "2024-01-01",
         "com.app.40009",
         "OTHERS",
         "63500.0",
         "5.0",
         "25251.0",
         "0.0"
        ],
        [
         "1",
         "2024-01-01",
         "com.app.88516",
         "OTHERS",
         "2440.0",
         "0.0",
         "312.0",
         "0.0"
        ],
        [
         "2",
         "2024-01-01",
         "com.app.64634",
         "TRAVEL_AND_LOCAL",
         "536.0",
         "0.0",
         "331.0",
         "0.0"
        ],
        [
         "3",
         "2024-01-01",
         "com.app.78470",
         "SHOPPING",
         "97924.0",
         "7.0",
         "27241.0",
         "23.0"
        ],
        [
         "4",
         "2024-01-01",
         "com.app.36433",
         "FINANCE",
         "678.0",
         "0.0",
         "414.0",
         "0.0"
        ]
       ],
       "shape": {
        "columns": 7,
        "rows": 5
       }
      },
      "text/html": [
       "<div>\n",
       "<style scoped>\n",
       "    .dataframe tbody tr th:only-of-type {\n",
       "        vertical-align: middle;\n",
       "    }\n",
       "\n",
       "    .dataframe tbody tr th {\n",
       "        vertical-align: top;\n",
       "    }\n",
       "\n",
       "    .dataframe thead th {\n",
       "        text-align: right;\n",
       "    }\n",
       "</style>\n",
       "<table border=\"1\" class=\"dataframe\">\n",
       "  <thead>\n",
       "    <tr style=\"text-align: right;\">\n",
       "      <th></th>\n",
       "      <th>date</th>\n",
       "      <th>appid</th>\n",
       "      <th>category</th>\n",
       "      <th>ratings</th>\n",
       "      <th>daily_ratings</th>\n",
       "      <th>reviews</th>\n",
       "      <th>daily_reviews</th>\n",
       "    </tr>\n",
       "  </thead>\n",
       "  <tbody>\n",
       "    <tr>\n",
       "      <th>0</th>\n",
       "      <td>2024-01-01</td>\n",
       "      <td>com.app.40009</td>\n",
       "      <td>OTHERS</td>\n",
       "      <td>63500.0</td>\n",
       "      <td>5.0</td>\n",
       "      <td>25251.0</td>\n",
       "      <td>0.0</td>\n",
       "    </tr>\n",
       "    <tr>\n",
       "      <th>1</th>\n",
       "      <td>2024-01-01</td>\n",
       "      <td>com.app.88516</td>\n",
       "      <td>OTHERS</td>\n",
       "      <td>2440.0</td>\n",
       "      <td>0.0</td>\n",
       "      <td>312.0</td>\n",
       "      <td>0.0</td>\n",
       "    </tr>\n",
       "    <tr>\n",
       "      <th>2</th>\n",
       "      <td>2024-01-01</td>\n",
       "      <td>com.app.64634</td>\n",
       "      <td>TRAVEL_AND_LOCAL</td>\n",
       "      <td>536.0</td>\n",
       "      <td>0.0</td>\n",
       "      <td>331.0</td>\n",
       "      <td>0.0</td>\n",
       "    </tr>\n",
       "    <tr>\n",
       "      <th>3</th>\n",
       "      <td>2024-01-01</td>\n",
       "      <td>com.app.78470</td>\n",
       "      <td>SHOPPING</td>\n",
       "      <td>97924.0</td>\n",
       "      <td>7.0</td>\n",
       "      <td>27241.0</td>\n",
       "      <td>23.0</td>\n",
       "    </tr>\n",
       "    <tr>\n",
       "      <th>4</th>\n",
       "      <td>2024-01-01</td>\n",
       "      <td>com.app.36433</td>\n",
       "      <td>FINANCE</td>\n",
       "      <td>678.0</td>\n",
       "      <td>0.0</td>\n",
       "      <td>414.0</td>\n",
       "      <td>0.0</td>\n",
       "    </tr>\n",
       "  </tbody>\n",
       "</table>\n",
       "</div>"
      ],
      "text/plain": [
       "         date          appid          category  ratings  daily_ratings  \\\n",
       "0  2024-01-01  com.app.40009            OTHERS  63500.0            5.0   \n",
       "1  2024-01-01  com.app.88516            OTHERS   2440.0            0.0   \n",
       "2  2024-01-01  com.app.64634  TRAVEL_AND_LOCAL    536.0            0.0   \n",
       "3  2024-01-01  com.app.78470          SHOPPING  97924.0            7.0   \n",
       "4  2024-01-01  com.app.36433           FINANCE    678.0            0.0   \n",
       "\n",
       "   reviews  daily_reviews  \n",
       "0  25251.0            0.0  \n",
       "1    312.0            0.0  \n",
       "2    331.0            0.0  \n",
       "3  27241.0           23.0  \n",
       "4    414.0            0.0  "
      ]
     },
     "execution_count": 27,
     "metadata": {},
     "output_type": "execute_result"
    }
   ],
   "source": [
    "df_reviews.head()"
   ]
  },
  {
   "cell_type": "markdown",
   "id": "771f6460",
   "metadata": {},
   "source": [
    "**Verificação de tamanho**"
   ]
  },
  {
   "cell_type": "code",
   "execution_count": 28,
   "id": "80f7678a",
   "metadata": {},
   "outputs": [
    {
     "data": {
      "text/plain": [
       "(47155, 7)"
      ]
     },
     "execution_count": 28,
     "metadata": {},
     "output_type": "execute_result"
    }
   ],
   "source": [
    "df_reviews.shape"
   ]
  },
  {
   "cell_type": "markdown",
   "id": "d63376e2",
   "metadata": {},
   "source": [
    "**Verificação de tipagem**"
   ]
  },
  {
   "cell_type": "code",
   "execution_count": 29,
   "id": "2ff77089",
   "metadata": {},
   "outputs": [
    {
     "data": {
      "application/vnd.microsoft.datawrangler.viewer.v0+json": {
       "columns": [
        {
         "name": "index",
         "rawType": "object",
         "type": "string"
        },
        {
         "name": "0",
         "rawType": "object",
         "type": "unknown"
        }
       ],
       "ref": "5a0ad8a8-db61-4495-b01b-5b3b5c452b03",
       "rows": [
        [
         "date",
         "object"
        ],
        [
         "appid",
         "object"
        ],
        [
         "category",
         "object"
        ],
        [
         "ratings",
         "float64"
        ],
        [
         "daily_ratings",
         "float64"
        ],
        [
         "reviews",
         "float64"
        ],
        [
         "daily_reviews",
         "float64"
        ]
       ],
       "shape": {
        "columns": 1,
        "rows": 7
       }
      },
      "text/plain": [
       "date              object\n",
       "appid             object\n",
       "category          object\n",
       "ratings          float64\n",
       "daily_ratings    float64\n",
       "reviews          float64\n",
       "daily_reviews    float64\n",
       "dtype: object"
      ]
     },
     "execution_count": 29,
     "metadata": {},
     "output_type": "execute_result"
    }
   ],
   "source": [
    "df_reviews.dtypes"
   ]
  },
  {
   "cell_type": "code",
   "execution_count": 30,
   "id": "4c79fd3f",
   "metadata": {},
   "outputs": [],
   "source": [
    "df_reviews[\"date\"] = pd.to_datetime(df_reviews[\"date\"])"
   ]
  },
  {
   "cell_type": "markdown",
   "id": "eb2e6d16",
   "metadata": {},
   "source": [
    "**Verificação de dados duplicados**"
   ]
  },
  {
   "cell_type": "code",
   "execution_count": 31,
   "id": "90d26aea",
   "metadata": {},
   "outputs": [
    {
     "data": {
      "text/plain": [
       "0"
      ]
     },
     "execution_count": 31,
     "metadata": {},
     "output_type": "execute_result"
    }
   ],
   "source": [
    "df_reviews.duplicated().sum()"
   ]
  },
  {
   "cell_type": "markdown",
   "id": "85e4ea83",
   "metadata": {},
   "source": [
    "**Verificação de dados nulos**"
   ]
  },
  {
   "cell_type": "code",
   "execution_count": 32,
   "id": "7274e041",
   "metadata": {},
   "outputs": [
    {
     "data": {
      "application/vnd.microsoft.datawrangler.viewer.v0+json": {
       "columns": [
        {
         "name": "index",
         "rawType": "object",
         "type": "string"
        },
        {
         "name": "0",
         "rawType": "int64",
         "type": "integer"
        }
       ],
       "ref": "feb321d1-25d9-4307-adcb-17a6171e0818",
       "rows": [
        [
         "date",
         "0"
        ],
        [
         "appid",
         "0"
        ],
        [
         "category",
         "0"
        ],
        [
         "ratings",
         "0"
        ],
        [
         "daily_ratings",
         "0"
        ],
        [
         "reviews",
         "0"
        ],
        [
         "daily_reviews",
         "0"
        ]
       ],
       "shape": {
        "columns": 1,
        "rows": 7
       }
      },
      "text/plain": [
       "date             0\n",
       "appid            0\n",
       "category         0\n",
       "ratings          0\n",
       "daily_ratings    0\n",
       "reviews          0\n",
       "daily_reviews    0\n",
       "dtype: int64"
      ]
     },
     "execution_count": 32,
     "metadata": {},
     "output_type": "execute_result"
    }
   ],
   "source": [
    "df_reviews.isna().sum()"
   ]
  },
  {
   "cell_type": "markdown",
   "id": "528e053a",
   "metadata": {},
   "source": [
    "# Analisando bases agrupadas"
   ]
  },
  {
   "cell_type": "markdown",
   "id": "249ed52b",
   "metadata": {},
   "source": [
    "Após os tratamentos iniciais, realizo o agrupamento das bases e avanço no processo de analise dos campos, através de analise individual dos campos e em conjunto."
   ]
  },
  {
   "cell_type": "code",
   "execution_count": 33,
   "id": "c34552c2",
   "metadata": {},
   "outputs": [],
   "source": [
    "df_instalacoes = df_instalacoes.rename(columns={\"appid\": \"appId\"})\n",
    "df_reviews = df_reviews.rename(columns = {\"appid\": \"appId\"})\n",
    "\n",
    "df_completo = (\n",
    "    df_daumau\n",
    "    .merge(df_desinstalacoes, how='left', on=['appId', 'date'])\n",
    "    .merge(df_instalacoes, how='left', on=['appId', 'date'])\n",
    "    .merge(df_reviews, how='left', on=['appId', 'date'])\n",
    ")"
   ]
  },
  {
   "cell_type": "markdown",
   "id": "83dc9ebf",
   "metadata": {},
   "source": [
    "Removo as colunas ***lang*** e ***country*** pois possuem apenas os valores categóricos **pt** e **br**, o que não agregariam valor nesse nosso cenário.\n",
    "\n",
    "A base apresentou alguns valores nulos, o único campo que seria possivel corrigir seria a ***category*** pois é o único campo de carater categorico, pude observar que os aplicativos se enquadram em apenas um, então quando há informação em outras safras podemos preencher o mesmo valor."
   ]
  },
  {
   "cell_type": "code",
   "execution_count": 34,
   "id": "f4bf3e2d",
   "metadata": {},
   "outputs": [],
   "source": [
    "df_completo = df_completo.drop(\n",
    "    columns = [\"lang\",\"country\"]\n",
    ")"
   ]
  },
  {
   "cell_type": "code",
   "execution_count": 35,
   "id": "a776fa8c",
   "metadata": {},
   "outputs": [
    {
     "data": {
      "application/vnd.microsoft.datawrangler.viewer.v0+json": {
       "columns": [
        {
         "name": "index",
         "rawType": "object",
         "type": "string"
        },
        {
         "name": "0",
         "rawType": "int64",
         "type": "integer"
        }
       ],
       "ref": "1b066b8d-4e7f-42bf-96a6-da04f112ca21",
       "rows": [
        [
         "appId",
         "0"
        ],
        [
         "date",
         "0"
        ],
        [
         "dauReal",
         "0"
        ],
        [
         "mauReal",
         "0"
        ],
        [
         "predictionLoss",
         "200"
        ],
        [
         "newinstalls",
         "2722"
        ],
        [
         "category",
         "2283"
        ],
        [
         "ratings",
         "2283"
        ],
        [
         "daily_ratings",
         "2283"
        ],
        [
         "reviews",
         "2283"
        ],
        [
         "daily_reviews",
         "2283"
        ]
       ],
       "shape": {
        "columns": 1,
        "rows": 11
       }
      },
      "text/plain": [
       "appId                0\n",
       "date                 0\n",
       "dauReal              0\n",
       "mauReal              0\n",
       "predictionLoss     200\n",
       "newinstalls       2722\n",
       "category          2283\n",
       "ratings           2283\n",
       "daily_ratings     2283\n",
       "reviews           2283\n",
       "daily_reviews     2283\n",
       "dtype: int64"
      ]
     },
     "execution_count": 35,
     "metadata": {},
     "output_type": "execute_result"
    }
   ],
   "source": [
    "df_completo.isna().sum()"
   ]
  },
  {
   "cell_type": "code",
   "execution_count": 36,
   "id": "15709fb3",
   "metadata": {},
   "outputs": [
    {
     "data": {
      "application/vnd.microsoft.datawrangler.viewer.v0+json": {
       "columns": [
        {
         "name": "index",
         "rawType": "int64",
         "type": "integer"
        },
        {
         "name": "appId",
         "rawType": "object",
         "type": "string"
        },
        {
         "name": "date",
         "rawType": "datetime64[ns]",
         "type": "datetime"
        },
        {
         "name": "dauReal",
         "rawType": "float64",
         "type": "float"
        },
        {
         "name": "mauReal",
         "rawType": "float64",
         "type": "float"
        },
        {
         "name": "predictionLoss",
         "rawType": "float64",
         "type": "float"
        },
        {
         "name": "newinstalls",
         "rawType": "float64",
         "type": "float"
        },
        {
         "name": "category",
         "rawType": "object",
         "type": "unknown"
        },
        {
         "name": "ratings",
         "rawType": "float64",
         "type": "float"
        },
        {
         "name": "daily_ratings",
         "rawType": "float64",
         "type": "float"
        },
        {
         "name": "reviews",
         "rawType": "float64",
         "type": "float"
        },
        {
         "name": "daily_reviews",
         "rawType": "float64",
         "type": "float"
        }
       ],
       "ref": "28327bf2-30cf-4b45-be0a-72d15fcbd833",
       "rows": [
        [
         "8",
         "com.app.85381",
         "2024-01-01 00:00:00",
         "1006.0",
         "24799.0",
         "1786.0",
         null,
         null,
         null,
         null,
         null,
         null
        ],
        [
         "9",
         "com.app.85381",
         "2024-01-02 00:00:00",
         "1624.0",
         "24862.0",
         "1787.0",
         null,
         null,
         null,
         null,
         null,
         null
        ],
        [
         "120",
         "com.app.81778",
         "2024-01-01 00:00:00",
         "768.0",
         "19994.0",
         "1786.0",
         null,
         null,
         null,
         null,
         null,
         null
        ],
        [
         "121",
         "com.app.81778",
         "2024-01-02 00:00:00",
         "985.0",
         "20035.0",
         "1787.0",
         null,
         null,
         null,
         null,
         null,
         null
        ],
        [
         "168",
         "com.app.34216",
         "2024-01-01 00:00:00",
         "1729.0",
         "38562.0",
         "1786.0",
         null,
         null,
         null,
         null,
         null,
         null
        ],
        [
         "169",
         "com.app.34216",
         "2024-01-02 00:00:00",
         "1737.0",
         "38541.0",
         "1787.0",
         null,
         null,
         null,
         null,
         null,
         null
        ],
        [
         "308",
         "com.app.81778",
         "2024-01-03 00:00:00",
         "968.0",
         "20013.0",
         "1787.0",
         null,
         null,
         null,
         null,
         null,
         null
        ],
        [
         "335",
         "com.app.34216",
         "2024-01-03 00:00:00",
         "1580.0",
         "38234.0",
         "1787.0",
         null,
         null,
         null,
         null,
         null,
         null
        ],
        [
         "392",
         "com.app.85381",
         "2024-01-03 00:00:00",
         "1676.0",
         "24670.0",
         "1787.0",
         null,
         null,
         null,
         null,
         null,
         null
        ],
        [
         "446",
         "com.app.81778",
         "2024-01-04 00:00:00",
         "1004.0",
         "19850.0",
         "1809.0",
         null,
         null,
         null,
         null,
         null,
         null
        ],
        [
         "470",
         "com.app.34216",
         "2024-01-04 00:00:00",
         "1746.0",
         "37850.0",
         "1809.0",
         null,
         null,
         null,
         null,
         null,
         null
        ],
        [
         "523",
         "com.app.85381",
         "2024-01-04 00:00:00",
         "1622.0",
         "24659.0",
         "1809.0",
         null,
         null,
         null,
         null,
         null,
         null
        ],
        [
         "624",
         "com.app.81778",
         "2024-01-05 00:00:00",
         "959.0",
         "20000.0",
         "1786.0",
         null,
         null,
         null,
         null,
         null,
         null
        ],
        [
         "625",
         "com.app.81778",
         "2024-01-06 00:00:00",
         "841.0",
         "19904.0",
         "1343.0",
         null,
         null,
         null,
         null,
         null,
         null
        ],
        [
         "675",
         "com.app.34216",
         "2024-01-05 00:00:00",
         "1840.0",
         "37529.0",
         "1786.0",
         null,
         null,
         null,
         null,
         null,
         null
        ],
        [
         "676",
         "com.app.34216",
         "2024-01-06 00:00:00",
         "1743.0",
         "37164.0",
         "1343.0",
         null,
         null,
         null,
         null,
         null,
         null
        ],
        [
         "781",
         "com.app.85381",
         "2024-01-05 00:00:00",
         "1671.0",
         "24615.0",
         "1786.0",
         null,
         null,
         null,
         null,
         null,
         null
        ],
        [
         "782",
         "com.app.85381",
         "2024-01-06 00:00:00",
         "1287.0",
         "24666.0",
         "1343.0",
         null,
         null,
         null,
         null,
         null,
         null
        ],
        [
         "846",
         "com.app.81778",
         "2024-01-07 00:00:00",
         "847.0",
         "19881.0",
         "1327.0",
         null,
         null,
         null,
         null,
         null,
         null
        ],
        [
         "871",
         "com.app.34216",
         "2024-01-07 00:00:00",
         "1679.0",
         "36900.0",
         "1327.0",
         null,
         null,
         null,
         null,
         null,
         null
        ],
        [
         "924",
         "com.app.85381",
         "2024-01-07 00:00:00",
         "1014.0",
         "24449.0",
         "1327.0",
         null,
         null,
         null,
         null,
         null,
         null
        ],
        [
         "1024",
         "com.app.81778",
         "2024-01-08 00:00:00",
         "1050.0",
         "19874.0",
         "1786.0",
         null,
         null,
         null,
         null,
         null,
         null
        ],
        [
         "1025",
         "com.app.81778",
         "2024-01-09 00:00:00",
         "1141.0",
         "19891.0",
         "1787.0",
         null,
         null,
         null,
         null,
         null,
         null
        ],
        [
         "1074",
         "com.app.34216",
         "2024-01-08 00:00:00",
         "1828.0",
         "36847.0",
         "1786.0",
         null,
         null,
         null,
         null,
         null,
         null
        ],
        [
         "1075",
         "com.app.34216",
         "2024-01-09 00:00:00",
         "1773.0",
         "36671.0",
         "1787.0",
         null,
         null,
         null,
         null,
         null,
         null
        ],
        [
         "1180",
         "com.app.85381",
         "2024-01-08 00:00:00",
         "1693.0",
         "24278.0",
         "1786.0",
         null,
         null,
         null,
         null,
         null,
         null
        ],
        [
         "1181",
         "com.app.85381",
         "2024-01-09 00:00:00",
         "1909.0",
         "24555.0",
         "1787.0",
         null,
         null,
         null,
         null,
         null,
         null
        ],
        [
         "1254",
         "com.app.81778",
         "2024-01-10 00:00:00",
         "1110.0",
         "19960.0",
         "1787.0",
         null,
         null,
         null,
         null,
         null,
         null
        ],
        [
         "1279",
         "com.app.34216",
         "2024-01-10 00:00:00",
         "1720.0",
         "36407.0",
         "1787.0",
         null,
         null,
         null,
         null,
         null,
         null
        ],
        [
         "1332",
         "com.app.85381",
         "2024-01-10 00:00:00",
         "2698.0",
         "25589.0",
         "1844.0",
         null,
         null,
         null,
         null,
         null,
         null
        ],
        [
         "1388",
         "com.app.81778",
         "2024-01-11 00:00:00",
         "999.0",
         "19914.0",
         "1809.0",
         null,
         null,
         null,
         null,
         null,
         null
        ],
        [
         "1413",
         "com.app.34216",
         "2024-01-11 00:00:00",
         "1688.0",
         "36215.0",
         "1809.0",
         null,
         null,
         null,
         null,
         null,
         null
        ],
        [
         "1464",
         "com.app.85381",
         "2024-01-11 00:00:00",
         "2039.0",
         "25809.0",
         "1807.0",
         null,
         null,
         null,
         null,
         null,
         null
        ],
        [
         "1530",
         "com.app.81778",
         "2024-01-12 00:00:00",
         "1153.0",
         "20062.0",
         "1786.0",
         null,
         null,
         null,
         null,
         null,
         null
        ],
        [
         "1555",
         "com.app.34216",
         "2024-01-12 00:00:00",
         "1747.0",
         "35820.0",
         "1786.0",
         null,
         null,
         null,
         null,
         null,
         null
        ],
        [
         "1609",
         "com.app.85381",
         "2024-01-12 00:00:00",
         "1821.0",
         "26064.0",
         "1794.0",
         null,
         null,
         null,
         null,
         null,
         null
        ],
        [
         "1722",
         "com.app.81778",
         "2024-01-13 00:00:00",
         "978.0",
         "20135.0",
         "1343.0",
         null,
         null,
         null,
         null,
         null,
         null
        ],
        [
         "1723",
         "com.app.81778",
         "2024-01-14 00:00:00",
         "805.0",
         "20025.0",
         "1327.0",
         null,
         null,
         null,
         null,
         null,
         null
        ],
        [
         "1776",
         "com.app.34216",
         "2024-01-13 00:00:00",
         "1721.0",
         "35335.0",
         "1372.0",
         null,
         null,
         null,
         null,
         null,
         null
        ],
        [
         "1777",
         "com.app.34216",
         "2024-01-14 00:00:00",
         "1585.0",
         "35092.0",
         "1327.0",
         null,
         null,
         null,
         null,
         null,
         null
        ],
        [
         "1889",
         "com.app.85381",
         "2024-01-14 00:00:00",
         "1247.0",
         "26296.0",
         "1327.0",
         null,
         null,
         null,
         null,
         null,
         null
        ],
        [
         "1890",
         "com.app.85381",
         "2024-01-13 00:00:00",
         "1407.0",
         "26170.0",
         "1343.0",
         null,
         null,
         null,
         null,
         null,
         null
        ],
        [
         "1971",
         "com.app.81778",
         "2024-01-15 00:00:00",
         "1026.0",
         "20035.0",
         "1784.0",
         null,
         null,
         null,
         null,
         null,
         null
        ],
        [
         "1996",
         "com.app.34216",
         "2024-01-15 00:00:00",
         "1648.0",
         "34828.0",
         "1784.0",
         null,
         null,
         null,
         null,
         null,
         null
        ],
        [
         "2062",
         "com.app.85381",
         "2024-01-15 00:00:00",
         "1648.0",
         "26263.0",
         "1784.0",
         null,
         null,
         null,
         null,
         null,
         null
        ],
        [
         "2122",
         "com.app.81778",
         "2024-01-16 00:00:00",
         "1016.0",
         "20165.0",
         "1785.0",
         null,
         null,
         null,
         null,
         null,
         null
        ],
        [
         "2147",
         "com.app.34216",
         "2024-01-16 00:00:00",
         "1660.0",
         "34732.0",
         "1785.0",
         null,
         null,
         null,
         null,
         null,
         null
        ],
        [
         "2216",
         "com.app.85381",
         "2024-01-16 00:00:00",
         "1608.0",
         "26389.0",
         "1816.0",
         null,
         null,
         null,
         null,
         null,
         null
        ],
        [
         "2228",
         "com.app.14360",
         "2024-01-01 00:00:00",
         "1006.0",
         "7430.0",
         "1786.0",
         null,
         null,
         null,
         null,
         null,
         null
        ],
        [
         "2229",
         "com.app.14360",
         "2024-01-02 00:00:00",
         "1624.0",
         "7401.0",
         "1787.0",
         null,
         null,
         null,
         null,
         null,
         null
        ]
       ],
       "shape": {
        "columns": 11,
        "rows": 2283
       }
      },
      "text/html": [
       "<div>\n",
       "<style scoped>\n",
       "    .dataframe tbody tr th:only-of-type {\n",
       "        vertical-align: middle;\n",
       "    }\n",
       "\n",
       "    .dataframe tbody tr th {\n",
       "        vertical-align: top;\n",
       "    }\n",
       "\n",
       "    .dataframe thead th {\n",
       "        text-align: right;\n",
       "    }\n",
       "</style>\n",
       "<table border=\"1\" class=\"dataframe\">\n",
       "  <thead>\n",
       "    <tr style=\"text-align: right;\">\n",
       "      <th></th>\n",
       "      <th>appId</th>\n",
       "      <th>date</th>\n",
       "      <th>dauReal</th>\n",
       "      <th>mauReal</th>\n",
       "      <th>predictionLoss</th>\n",
       "      <th>newinstalls</th>\n",
       "      <th>category</th>\n",
       "      <th>ratings</th>\n",
       "      <th>daily_ratings</th>\n",
       "      <th>reviews</th>\n",
       "      <th>daily_reviews</th>\n",
       "    </tr>\n",
       "  </thead>\n",
       "  <tbody>\n",
       "    <tr>\n",
       "      <th>8</th>\n",
       "      <td>com.app.85381</td>\n",
       "      <td>2024-01-01</td>\n",
       "      <td>1006.0</td>\n",
       "      <td>24799.0</td>\n",
       "      <td>1786.0</td>\n",
       "      <td>NaN</td>\n",
       "      <td>NaN</td>\n",
       "      <td>NaN</td>\n",
       "      <td>NaN</td>\n",
       "      <td>NaN</td>\n",
       "      <td>NaN</td>\n",
       "    </tr>\n",
       "    <tr>\n",
       "      <th>9</th>\n",
       "      <td>com.app.85381</td>\n",
       "      <td>2024-01-02</td>\n",
       "      <td>1624.0</td>\n",
       "      <td>24862.0</td>\n",
       "      <td>1787.0</td>\n",
       "      <td>NaN</td>\n",
       "      <td>NaN</td>\n",
       "      <td>NaN</td>\n",
       "      <td>NaN</td>\n",
       "      <td>NaN</td>\n",
       "      <td>NaN</td>\n",
       "    </tr>\n",
       "    <tr>\n",
       "      <th>120</th>\n",
       "      <td>com.app.81778</td>\n",
       "      <td>2024-01-01</td>\n",
       "      <td>768.0</td>\n",
       "      <td>19994.0</td>\n",
       "      <td>1786.0</td>\n",
       "      <td>NaN</td>\n",
       "      <td>NaN</td>\n",
       "      <td>NaN</td>\n",
       "      <td>NaN</td>\n",
       "      <td>NaN</td>\n",
       "      <td>NaN</td>\n",
       "    </tr>\n",
       "    <tr>\n",
       "      <th>121</th>\n",
       "      <td>com.app.81778</td>\n",
       "      <td>2024-01-02</td>\n",
       "      <td>985.0</td>\n",
       "      <td>20035.0</td>\n",
       "      <td>1787.0</td>\n",
       "      <td>NaN</td>\n",
       "      <td>NaN</td>\n",
       "      <td>NaN</td>\n",
       "      <td>NaN</td>\n",
       "      <td>NaN</td>\n",
       "      <td>NaN</td>\n",
       "    </tr>\n",
       "    <tr>\n",
       "      <th>168</th>\n",
       "      <td>com.app.34216</td>\n",
       "      <td>2024-01-01</td>\n",
       "      <td>1729.0</td>\n",
       "      <td>38562.0</td>\n",
       "      <td>1786.0</td>\n",
       "      <td>NaN</td>\n",
       "      <td>NaN</td>\n",
       "      <td>NaN</td>\n",
       "      <td>NaN</td>\n",
       "      <td>NaN</td>\n",
       "      <td>NaN</td>\n",
       "    </tr>\n",
       "    <tr>\n",
       "      <th>...</th>\n",
       "      <td>...</td>\n",
       "      <td>...</td>\n",
       "      <td>...</td>\n",
       "      <td>...</td>\n",
       "      <td>...</td>\n",
       "      <td>...</td>\n",
       "      <td>...</td>\n",
       "      <td>...</td>\n",
       "      <td>...</td>\n",
       "      <td>...</td>\n",
       "      <td>...</td>\n",
       "    </tr>\n",
       "    <tr>\n",
       "      <th>41231</th>\n",
       "      <td>com.app.32607</td>\n",
       "      <td>2044-07-13</td>\n",
       "      <td>130203.0</td>\n",
       "      <td>578280.0</td>\n",
       "      <td>NaN</td>\n",
       "      <td>NaN</td>\n",
       "      <td>NaN</td>\n",
       "      <td>NaN</td>\n",
       "      <td>NaN</td>\n",
       "      <td>NaN</td>\n",
       "      <td>NaN</td>\n",
       "    </tr>\n",
       "    <tr>\n",
       "      <th>41232</th>\n",
       "      <td>com.app.48189</td>\n",
       "      <td>2044-07-14</td>\n",
       "      <td>7412.0</td>\n",
       "      <td>36137.0</td>\n",
       "      <td>NaN</td>\n",
       "      <td>NaN</td>\n",
       "      <td>NaN</td>\n",
       "      <td>NaN</td>\n",
       "      <td>NaN</td>\n",
       "      <td>NaN</td>\n",
       "      <td>NaN</td>\n",
       "    </tr>\n",
       "    <tr>\n",
       "      <th>41233</th>\n",
       "      <td>com.app.21603</td>\n",
       "      <td>2044-07-15</td>\n",
       "      <td>81544.0</td>\n",
       "      <td>854480.0</td>\n",
       "      <td>NaN</td>\n",
       "      <td>NaN</td>\n",
       "      <td>NaN</td>\n",
       "      <td>NaN</td>\n",
       "      <td>NaN</td>\n",
       "      <td>NaN</td>\n",
       "      <td>NaN</td>\n",
       "    </tr>\n",
       "    <tr>\n",
       "      <th>41234</th>\n",
       "      <td>com.app.50760</td>\n",
       "      <td>2044-07-16</td>\n",
       "      <td>49957.0</td>\n",
       "      <td>173394.0</td>\n",
       "      <td>NaN</td>\n",
       "      <td>NaN</td>\n",
       "      <td>NaN</td>\n",
       "      <td>NaN</td>\n",
       "      <td>NaN</td>\n",
       "      <td>NaN</td>\n",
       "      <td>NaN</td>\n",
       "    </tr>\n",
       "    <tr>\n",
       "      <th>41235</th>\n",
       "      <td>com.app.19637</td>\n",
       "      <td>2044-07-17</td>\n",
       "      <td>1932.0</td>\n",
       "      <td>16373.0</td>\n",
       "      <td>NaN</td>\n",
       "      <td>NaN</td>\n",
       "      <td>NaN</td>\n",
       "      <td>NaN</td>\n",
       "      <td>NaN</td>\n",
       "      <td>NaN</td>\n",
       "      <td>NaN</td>\n",
       "    </tr>\n",
       "  </tbody>\n",
       "</table>\n",
       "<p>2283 rows × 11 columns</p>\n",
       "</div>"
      ],
      "text/plain": [
       "               appId       date   dauReal   mauReal  predictionLoss  \\\n",
       "8      com.app.85381 2024-01-01    1006.0   24799.0          1786.0   \n",
       "9      com.app.85381 2024-01-02    1624.0   24862.0          1787.0   \n",
       "120    com.app.81778 2024-01-01     768.0   19994.0          1786.0   \n",
       "121    com.app.81778 2024-01-02     985.0   20035.0          1787.0   \n",
       "168    com.app.34216 2024-01-01    1729.0   38562.0          1786.0   \n",
       "...              ...        ...       ...       ...             ...   \n",
       "41231  com.app.32607 2044-07-13  130203.0  578280.0             NaN   \n",
       "41232  com.app.48189 2044-07-14    7412.0   36137.0             NaN   \n",
       "41233  com.app.21603 2044-07-15   81544.0  854480.0             NaN   \n",
       "41234  com.app.50760 2044-07-16   49957.0  173394.0             NaN   \n",
       "41235  com.app.19637 2044-07-17    1932.0   16373.0             NaN   \n",
       "\n",
       "       newinstalls category  ratings  daily_ratings  reviews  daily_reviews  \n",
       "8              NaN      NaN      NaN            NaN      NaN            NaN  \n",
       "9              NaN      NaN      NaN            NaN      NaN            NaN  \n",
       "120            NaN      NaN      NaN            NaN      NaN            NaN  \n",
       "121            NaN      NaN      NaN            NaN      NaN            NaN  \n",
       "168            NaN      NaN      NaN            NaN      NaN            NaN  \n",
       "...            ...      ...      ...            ...      ...            ...  \n",
       "41231          NaN      NaN      NaN            NaN      NaN            NaN  \n",
       "41232          NaN      NaN      NaN            NaN      NaN            NaN  \n",
       "41233          NaN      NaN      NaN            NaN      NaN            NaN  \n",
       "41234          NaN      NaN      NaN            NaN      NaN            NaN  \n",
       "41235          NaN      NaN      NaN            NaN      NaN            NaN  \n",
       "\n",
       "[2283 rows x 11 columns]"
      ]
     },
     "execution_count": 36,
     "metadata": {},
     "output_type": "execute_result"
    }
   ],
   "source": [
    "df_completo[(df_completo['category'].isna())]"
   ]
  },
  {
   "cell_type": "code",
   "execution_count": 37,
   "id": "da75a01c",
   "metadata": {},
   "outputs": [],
   "source": [
    "not_null_map = (\n",
    "    df_completo.dropna(subset=['category'])\n",
    "               .drop_duplicates(subset=['appId'])\n",
    "               .set_index('appId')['category']\n",
    ")\n",
    "df_completo['category'] = df_completo['category'].fillna(df_completo['appId'].map(not_null_map))\n"
   ]
  },
  {
   "cell_type": "markdown",
   "id": "1987e2c9",
   "metadata": {},
   "source": [
    "## Análise Univariada\n",
    "\n",
    "Analiso os campos individualmente para entender o comportamento e dominio de cada um, realizando assim os devidos tratamentos."
   ]
  },
  {
   "cell_type": "markdown",
   "id": "2c1a591a",
   "metadata": {},
   "source": [
    "### *date*\n",
    "\n",
    "Já havia observado em etapas anteriores a presença de outlliers para esse campo, então seleciono apenas a data de 2024, inicio por ele pois isso irá remover registros problematicos nas analises seguintes."
   ]
  },
  {
   "cell_type": "code",
   "execution_count": 38,
   "id": "05a1022d",
   "metadata": {},
   "outputs": [],
   "source": [
    "df_completo['year'] = pd.to_datetime(df_completo['date']).dt.year"
   ]
  },
  {
   "cell_type": "code",
   "execution_count": 39,
   "id": "efe49c3c",
   "metadata": {},
   "outputs": [
    {
     "data": {
      "application/vnd.microsoft.datawrangler.viewer.v0+json": {
       "columns": [
        {
         "name": "year",
         "rawType": "int32",
         "type": "integer"
        },
        {
         "name": "count",
         "rawType": "int64",
         "type": "integer"
        }
       ],
       "ref": "a42e3b08-7e0d-44c1-ad33-8e49e40d59c2",
       "rows": [
        [
         "2024",
         "41163"
        ],
        [
         "2220",
         "31"
        ],
        [
         "2044",
         "17"
        ],
        [
         "1912",
         "14"
        ],
        [
         "1980",
         "11"
        ]
       ],
       "shape": {
        "columns": 1,
        "rows": 5
       }
      },
      "text/plain": [
       "year\n",
       "2024    41163\n",
       "2220       31\n",
       "2044       17\n",
       "1912       14\n",
       "1980       11\n",
       "Name: count, dtype: int64"
      ]
     },
     "execution_count": 39,
     "metadata": {},
     "output_type": "execute_result"
    }
   ],
   "source": [
    "df_completo['year'].value_counts()"
   ]
  },
  {
   "cell_type": "code",
   "execution_count": 40,
   "id": "25c30d95",
   "metadata": {},
   "outputs": [],
   "source": [
    "df_completo = df_completo.loc[df_completo['year'] == 2024]"
   ]
  },
  {
   "cell_type": "markdown",
   "id": "5774c84a",
   "metadata": {},
   "source": [
    "### *dauReal*"
   ]
  },
  {
   "cell_type": "code",
   "execution_count": 41,
   "id": "de14071a",
   "metadata": {},
   "outputs": [
    {
     "data": {
      "application/vnd.microsoft.datawrangler.viewer.v0+json": {
       "columns": [
        {
         "name": "index",
         "rawType": "object",
         "type": "string"
        },
        {
         "name": "dauReal",
         "rawType": "object",
         "type": "string"
        }
       ],
       "ref": "8b95cf13-c810-4257-b4f1-42dca24ea8e8",
       "rows": [
        [
         "count",
         "41,163.00"
        ],
        [
         "mean",
         "438,272.46"
        ],
        [
         "std",
         "1,333,702.92"
        ],
        [
         "min",
         "0.00"
        ],
        [
         "25%",
         "8,448.50"
        ],
        [
         "50%",
         "30,701.00"
        ],
        [
         "75%",
         "161,606.00"
        ],
        [
         "max",
         "10,648,152.00"
        ]
       ],
       "shape": {
        "columns": 1,
        "rows": 8
       }
      },
      "text/plain": [
       "count        41,163.00\n",
       "mean        438,272.46\n",
       "std       1,333,702.92\n",
       "min               0.00\n",
       "25%           8,448.50\n",
       "50%          30,701.00\n",
       "75%         161,606.00\n",
       "max      10,648,152.00\n",
       "Name: dauReal, dtype: object"
      ]
     },
     "execution_count": 41,
     "metadata": {},
     "output_type": "execute_result"
    }
   ],
   "source": [
    "df_completo['dauReal'].describe().apply(lambda x: f\"{x:,.2f}\")"
   ]
  },
  {
   "cell_type": "markdown",
   "id": "22215556",
   "metadata": {},
   "source": [
    "### *mauReal*"
   ]
  },
  {
   "cell_type": "code",
   "execution_count": 42,
   "id": "39bea8bd",
   "metadata": {},
   "outputs": [
    {
     "data": {
      "application/vnd.microsoft.datawrangler.viewer.v0+json": {
       "columns": [
        {
         "name": "index",
         "rawType": "object",
         "type": "string"
        },
        {
         "name": "mauReal",
         "rawType": "object",
         "type": "string"
        }
       ],
       "ref": "2dcb2e7f-faad-4591-8b47-e61a7056e6f9",
       "rows": [
        [
         "count",
         "41,163.00"
        ],
        [
         "mean",
         "1,913,490.33"
        ],
        [
         "std",
         "4,788,045.11"
        ],
        [
         "min",
         "750.00"
        ],
        [
         "25%",
         "78,038.00"
        ],
        [
         "50%",
         "231,243.00"
        ],
        [
         "75%",
         "863,594.50"
        ],
        [
         "max",
         "29,605,840.00"
        ]
       ],
       "shape": {
        "columns": 1,
        "rows": 8
       }
      },
      "text/plain": [
       "count        41,163.00\n",
       "mean      1,913,490.33\n",
       "std       4,788,045.11\n",
       "min             750.00\n",
       "25%          78,038.00\n",
       "50%         231,243.00\n",
       "75%         863,594.50\n",
       "max      29,605,840.00\n",
       "Name: mauReal, dtype: object"
      ]
     },
     "execution_count": 42,
     "metadata": {},
     "output_type": "execute_result"
    }
   ],
   "source": [
    "df_completo['mauReal'].describe().apply(lambda x: f\"{x:,.2f}\")"
   ]
  },
  {
   "cell_type": "markdown",
   "id": "8a0f37a5",
   "metadata": {},
   "source": [
    "### *predictionLoss*"
   ]
  },
  {
   "cell_type": "code",
   "execution_count": 43,
   "id": "e32071be",
   "metadata": {},
   "outputs": [
    {
     "data": {
      "application/vnd.microsoft.datawrangler.viewer.v0+json": {
       "columns": [
        {
         "name": "index",
         "rawType": "object",
         "type": "string"
        },
        {
         "name": "predictionLoss",
         "rawType": "object",
         "type": "string"
        }
       ],
       "ref": "da4aa242-f9a2-4939-8cc8-b27f9a2061c0",
       "rows": [
        [
         "count",
         "41,036.00"
        ],
        [
         "mean",
         "12,505.77"
        ],
        [
         "std",
         "23,786.15"
        ],
        [
         "min",
         "455.00"
        ],
        [
         "25%",
         "1,777.00"
        ],
        [
         "50%",
         "3,947.00"
        ],
        [
         "75%",
         "9,459.25"
        ],
        [
         "max",
         "189,683.00"
        ]
       ],
       "shape": {
        "columns": 1,
        "rows": 8
       }
      },
      "text/plain": [
       "count     41,036.00\n",
       "mean      12,505.77\n",
       "std       23,786.15\n",
       "min          455.00\n",
       "25%        1,777.00\n",
       "50%        3,947.00\n",
       "75%        9,459.25\n",
       "max      189,683.00\n",
       "Name: predictionLoss, dtype: object"
      ]
     },
     "execution_count": 43,
     "metadata": {},
     "output_type": "execute_result"
    }
   ],
   "source": [
    "df_completo['predictionLoss'].describe().apply(lambda x: f\"{x:,.2f}\")"
   ]
  },
  {
   "cell_type": "markdown",
   "id": "b8de3a4d",
   "metadata": {},
   "source": [
    "### *newinstalls*"
   ]
  },
  {
   "cell_type": "code",
   "execution_count": 44,
   "id": "6bd80e66",
   "metadata": {},
   "outputs": [
    {
     "data": {
      "application/vnd.microsoft.datawrangler.viewer.v0+json": {
       "columns": [
        {
         "name": "index",
         "rawType": "object",
         "type": "string"
        },
        {
         "name": "newinstalls",
         "rawType": "object",
         "type": "string"
        }
       ],
       "ref": "6a8c863b-53fd-4bc3-bcde-402ef29cb7b6",
       "rows": [
        [
         "count",
         "38,514.00"
        ],
        [
         "mean",
         "4,018.60"
        ],
        [
         "std",
         "8,348.40"
        ],
        [
         "min",
         "0.00"
        ],
        [
         "25%",
         "324.00"
        ],
        [
         "50%",
         "948.00"
        ],
        [
         "75%",
         "3,094.00"
        ],
        [
         "max",
         "71,825.00"
        ]
       ],
       "shape": {
        "columns": 1,
        "rows": 8
       }
      },
      "text/plain": [
       "count    38,514.00\n",
       "mean      4,018.60\n",
       "std       8,348.40\n",
       "min           0.00\n",
       "25%         324.00\n",
       "50%         948.00\n",
       "75%       3,094.00\n",
       "max      71,825.00\n",
       "Name: newinstalls, dtype: object"
      ]
     },
     "execution_count": 44,
     "metadata": {},
     "output_type": "execute_result"
    }
   ],
   "source": [
    "df_completo['newinstalls'].describe().apply(lambda x: f\"{x:,.2f}\")"
   ]
  },
  {
   "cell_type": "markdown",
   "id": "85192b1c",
   "metadata": {},
   "source": [
    "### *category*"
   ]
  },
  {
   "cell_type": "code",
   "execution_count": 45,
   "id": "f03ebd53",
   "metadata": {},
   "outputs": [
    {
     "data": {
      "application/vnd.microsoft.datawrangler.viewer.v0+json": {
       "columns": [
        {
         "name": "category",
         "rawType": "object",
         "type": "string"
        },
        {
         "name": "count",
         "rawType": "int64",
         "type": "integer"
        }
       ],
       "ref": "9f13e744-6e04-4bf5-a84f-78009c55a324",
       "rows": [
        [
         "FINANCE",
         "15774"
        ],
        [
         "OTHERS",
         "9528"
        ],
        [
         "SHOPPING",
         "7169"
        ],
        [
         "BUSINESS",
         "3612"
        ],
        [
         "TRAVEL_AND_LOCAL",
         "2595"
        ],
        [
         "FOOD_AND_DRINK",
         "1337"
        ]
       ],
       "shape": {
        "columns": 1,
        "rows": 6
       }
      },
      "text/plain": [
       "category\n",
       "FINANCE             15774\n",
       "OTHERS               9528\n",
       "SHOPPING             7169\n",
       "BUSINESS             3612\n",
       "TRAVEL_AND_LOCAL     2595\n",
       "FOOD_AND_DRINK       1337\n",
       "Name: count, dtype: int64"
      ]
     },
     "execution_count": 45,
     "metadata": {},
     "output_type": "execute_result"
    }
   ],
   "source": [
    "df_completo['category'].value_counts()"
   ]
  },
  {
   "cell_type": "markdown",
   "id": "f337183f",
   "metadata": {},
   "source": [
    "### *ratings*"
   ]
  },
  {
   "cell_type": "code",
   "execution_count": 46,
   "id": "0eefdb9d",
   "metadata": {},
   "outputs": [
    {
     "data": {
      "application/vnd.microsoft.datawrangler.viewer.v0+json": {
       "columns": [
        {
         "name": "index",
         "rawType": "object",
         "type": "string"
        },
        {
         "name": "ratings",
         "rawType": "object",
         "type": "string"
        }
       ],
       "ref": "a33bca5e-91f6-41ea-89af-15a4cb93afc4",
       "rows": [
        [
         "count",
         "38,953.00"
        ],
        [
         "mean",
         "311,642.32"
        ],
        [
         "std",
         "783,370.12"
        ],
        [
         "min",
         "19.00"
        ],
        [
         "25%",
         "9,404.00"
        ],
        [
         "50%",
         "50,430.00"
        ],
        [
         "75%",
         "208,503.00"
        ],
        [
         "max",
         "13,214,326.00"
        ]
       ],
       "shape": {
        "columns": 1,
        "rows": 8
       }
      },
      "text/plain": [
       "count        38,953.00\n",
       "mean        311,642.32\n",
       "std         783,370.12\n",
       "min              19.00\n",
       "25%           9,404.00\n",
       "50%          50,430.00\n",
       "75%         208,503.00\n",
       "max      13,214,326.00\n",
       "Name: ratings, dtype: object"
      ]
     },
     "execution_count": 46,
     "metadata": {},
     "output_type": "execute_result"
    }
   ],
   "source": [
    "df_completo['ratings'].describe().apply(lambda x: f\"{x:,.2f}\")"
   ]
  },
  {
   "cell_type": "markdown",
   "id": "68947f6d",
   "metadata": {},
   "source": [
    "### *daily_ratings*\n",
    "\n",
    "Rating diario negativo não parece fazer sentido, então removo o dado."
   ]
  },
  {
   "cell_type": "code",
   "execution_count": 47,
   "id": "205c4491",
   "metadata": {},
   "outputs": [
    {
     "data": {
      "application/vnd.microsoft.datawrangler.viewer.v0+json": {
       "columns": [
        {
         "name": "index",
         "rawType": "object",
         "type": "string"
        },
        {
         "name": "daily_ratings",
         "rawType": "object",
         "type": "string"
        }
       ],
       "ref": "d29a3d27-4296-4ce2-94f2-2b716dfc1a09",
       "rows": [
        [
         "count",
         "38,953.00"
        ],
        [
         "mean",
         "147.60"
        ],
        [
         "std",
         "396.48"
        ],
        [
         "min",
         "-86.00"
        ],
        [
         "25%",
         "2.00"
        ],
        [
         "50%",
         "14.00"
        ],
        [
         "75%",
         "83.00"
        ],
        [
         "max",
         "6,353.00"
        ]
       ],
       "shape": {
        "columns": 1,
        "rows": 8
       }
      },
      "text/plain": [
       "count    38,953.00\n",
       "mean        147.60\n",
       "std         396.48\n",
       "min         -86.00\n",
       "25%           2.00\n",
       "50%          14.00\n",
       "75%          83.00\n",
       "max       6,353.00\n",
       "Name: daily_ratings, dtype: object"
      ]
     },
     "execution_count": 47,
     "metadata": {},
     "output_type": "execute_result"
    }
   ],
   "source": [
    "df_completo['daily_ratings'].describe().apply(lambda x: f\"{x:,.2f}\")"
   ]
  },
  {
   "cell_type": "code",
   "execution_count": 48,
   "id": "210d451a",
   "metadata": {},
   "outputs": [],
   "source": [
    "df_completo = df_completo.loc[df_completo['daily_ratings'] >= 0]"
   ]
  },
  {
   "cell_type": "markdown",
   "id": "65296573",
   "metadata": {},
   "source": [
    "### *reviews*"
   ]
  },
  {
   "cell_type": "code",
   "execution_count": 49,
   "id": "e2f248cf",
   "metadata": {},
   "outputs": [
    {
     "data": {
      "application/vnd.microsoft.datawrangler.viewer.v0+json": {
       "columns": [
        {
         "name": "index",
         "rawType": "object",
         "type": "string"
        },
        {
         "name": "reviews",
         "rawType": "object",
         "type": "string"
        }
       ],
       "ref": "0dbbbb67-eec2-4740-a702-5688b8413876",
       "rows": [
        [
         "count",
         "38,541.00"
        ],
        [
         "mean",
         "91,353.15"
        ],
        [
         "std",
         "219,717.01"
        ],
        [
         "min",
         "11.00"
        ],
        [
         "25%",
         "3,328.00"
        ],
        [
         "50%",
         "15,626.00"
        ],
        [
         "75%",
         "57,141.00"
        ],
        [
         "max",
         "1,491,128.00"
        ]
       ],
       "shape": {
        "columns": 1,
        "rows": 8
       }
      },
      "text/plain": [
       "count       38,541.00\n",
       "mean        91,353.15\n",
       "std        219,717.01\n",
       "min             11.00\n",
       "25%          3,328.00\n",
       "50%         15,626.00\n",
       "75%         57,141.00\n",
       "max      1,491,128.00\n",
       "Name: reviews, dtype: object"
      ]
     },
     "execution_count": 49,
     "metadata": {},
     "output_type": "execute_result"
    }
   ],
   "source": [
    "df_completo['reviews'].describe().apply(lambda x: f\"{x:,.2f}\")"
   ]
  },
  {
   "cell_type": "markdown",
   "id": "16f6af7c",
   "metadata": {},
   "source": [
    "### *daily_reviews*\n",
    "\n",
    "Reviews diario negativo também não parece fazer sentido, então removo o dado."
   ]
  },
  {
   "cell_type": "code",
   "execution_count": 50,
   "id": "b824f92c",
   "metadata": {},
   "outputs": [
    {
     "data": {
      "application/vnd.microsoft.datawrangler.viewer.v0+json": {
       "columns": [
        {
         "name": "index",
         "rawType": "object",
         "type": "string"
        },
        {
         "name": "daily_reviews",
         "rawType": "object",
         "type": "string"
        }
       ],
       "ref": "55cc5bcf-0829-475b-93c1-6d823abc8818",
       "rows": [
        [
         "count",
         "38,541.00"
        ],
        [
         "mean",
         "20.74"
        ],
        [
         "std",
         "53.67"
        ],
        [
         "min",
         "-19.00"
        ],
        [
         "25%",
         "1.00"
        ],
        [
         "50%",
         "3.00"
        ],
        [
         "75%",
         "14.00"
        ],
        [
         "max",
         "1,808.00"
        ]
       ],
       "shape": {
        "columns": 1,
        "rows": 8
       }
      },
      "text/plain": [
       "count    38,541.00\n",
       "mean         20.74\n",
       "std          53.67\n",
       "min         -19.00\n",
       "25%           1.00\n",
       "50%           3.00\n",
       "75%          14.00\n",
       "max       1,808.00\n",
       "Name: daily_reviews, dtype: object"
      ]
     },
     "execution_count": 50,
     "metadata": {},
     "output_type": "execute_result"
    }
   ],
   "source": [
    "df_completo['daily_reviews'].describe().apply(lambda x: f\"{x:,.2f}\")"
   ]
  },
  {
   "cell_type": "code",
   "execution_count": 51,
   "id": "f4f477e3",
   "metadata": {},
   "outputs": [],
   "source": [
    "df_completo = df_completo.loc[df_completo['daily_reviews'] >= 0]"
   ]
  },
  {
   "cell_type": "markdown",
   "id": "fdf19606",
   "metadata": {},
   "source": [
    "### *dauReal*"
   ]
  },
  {
   "cell_type": "code",
   "execution_count": 52,
   "id": "c2c5f8b9",
   "metadata": {},
   "outputs": [
    {
     "data": {
      "application/vnd.microsoft.datawrangler.viewer.v0+json": {
       "columns": [
        {
         "name": "index",
         "rawType": "object",
         "type": "string"
        },
        {
         "name": "dauReal",
         "rawType": "object",
         "type": "string"
        }
       ],
       "ref": "75a77835-966c-4af8-8752-5436ffc5fd24",
       "rows": [
        [
         "count",
         "38,494.00"
        ],
        [
         "mean",
         "462,144.11"
        ],
        [
         "std",
         "1,365,144.80"
        ],
        [
         "min",
         "0.00"
        ],
        [
         "25%",
         "10,101.50"
        ],
        [
         "50%",
         "35,546.50"
        ],
        [
         "75%",
         "193,405.00"
        ],
        [
         "max",
         "10,648,152.00"
        ]
       ],
       "shape": {
        "columns": 1,
        "rows": 8
       }
      },
      "text/plain": [
       "count        38,494.00\n",
       "mean        462,144.11\n",
       "std       1,365,144.80\n",
       "min               0.00\n",
       "25%          10,101.50\n",
       "50%          35,546.50\n",
       "75%         193,405.00\n",
       "max      10,648,152.00\n",
       "Name: dauReal, dtype: object"
      ]
     },
     "execution_count": 52,
     "metadata": {},
     "output_type": "execute_result"
    }
   ],
   "source": [
    "df_completo['dauReal'].describe().apply(lambda x: f\"{x:,.2f}\")"
   ]
  },
  {
   "cell_type": "markdown",
   "id": "f278d1a4",
   "metadata": {},
   "source": [
    "### *mauReal*"
   ]
  },
  {
   "cell_type": "code",
   "execution_count": 53,
   "id": "a2e6ab60",
   "metadata": {},
   "outputs": [
    {
     "data": {
      "application/vnd.microsoft.datawrangler.viewer.v0+json": {
       "columns": [
        {
         "name": "index",
         "rawType": "object",
         "type": "string"
        },
        {
         "name": "mauReal",
         "rawType": "object",
         "type": "string"
        }
       ],
       "ref": "22cebc2d-72e6-4533-b5d8-7c6bbb328c1a",
       "rows": [
        [
         "count",
         "38,494.00"
        ],
        [
         "mean",
         "2,027,516.10"
        ],
        [
         "std",
         "4,909,133.88"
        ],
        [
         "min",
         "766.00"
        ],
        [
         "25%",
         "93,654.00"
        ],
        [
         "50%",
         "289,892.00"
        ],
        [
         "75%",
         "1,067,788.50"
        ],
        [
         "max",
         "29,605,840.00"
        ]
       ],
       "shape": {
        "columns": 1,
        "rows": 8
       }
      },
      "text/plain": [
       "count        38,494.00\n",
       "mean      2,027,516.10\n",
       "std       4,909,133.88\n",
       "min             766.00\n",
       "25%          93,654.00\n",
       "50%         289,892.00\n",
       "75%       1,067,788.50\n",
       "max      29,605,840.00\n",
       "Name: mauReal, dtype: object"
      ]
     },
     "execution_count": 53,
     "metadata": {},
     "output_type": "execute_result"
    }
   ],
   "source": [
    "df_completo['mauReal'].describe().apply(lambda x: f\"{x:,.2f}\")"
   ]
  },
  {
   "cell_type": "markdown",
   "id": "e8725637",
   "metadata": {},
   "source": [
    "### *predictionLoss*"
   ]
  },
  {
   "cell_type": "code",
   "execution_count": 54,
   "id": "35f6d6df",
   "metadata": {},
   "outputs": [
    {
     "data": {
      "application/vnd.microsoft.datawrangler.viewer.v0+json": {
       "columns": [
        {
         "name": "index",
         "rawType": "object",
         "type": "string"
        },
        {
         "name": "predictionLoss",
         "rawType": "object",
         "type": "string"
        }
       ],
       "ref": "f3a70d9c-8eb7-4d6d-b0f6-ce907aeb9188",
       "rows": [
        [
         "count",
         "38,490.00"
        ],
        [
         "mean",
         "13,063.06"
        ],
        [
         "std",
         "24,290.59"
        ],
        [
         "min",
         "455.00"
        ],
        [
         "25%",
         "1,803.00"
        ],
        [
         "50%",
         "4,216.00"
        ],
        [
         "75%",
         "9,849.75"
        ],
        [
         "max",
         "189,683.00"
        ]
       ],
       "shape": {
        "columns": 1,
        "rows": 8
       }
      },
      "text/plain": [
       "count     38,490.00\n",
       "mean      13,063.06\n",
       "std       24,290.59\n",
       "min          455.00\n",
       "25%        1,803.00\n",
       "50%        4,216.00\n",
       "75%        9,849.75\n",
       "max      189,683.00\n",
       "Name: predictionLoss, dtype: object"
      ]
     },
     "execution_count": 54,
     "metadata": {},
     "output_type": "execute_result"
    }
   ],
   "source": [
    "df_completo['predictionLoss'].describe().apply(lambda x: f\"{x:,.2f}\")"
   ]
  },
  {
   "cell_type": "markdown",
   "id": "2e0e7c64",
   "metadata": {},
   "source": [
    "### *newinstalls*"
   ]
  },
  {
   "cell_type": "code",
   "execution_count": 55,
   "id": "46c5796d",
   "metadata": {},
   "outputs": [
    {
     "data": {
      "application/vnd.microsoft.datawrangler.viewer.v0+json": {
       "columns": [
        {
         "name": "index",
         "rawType": "object",
         "type": "string"
        },
        {
         "name": "newinstalls",
         "rawType": "object",
         "type": "string"
        }
       ],
       "ref": "7bf6f823-822a-43d3-b82c-4931e78e9fc7",
       "rows": [
        [
         "count",
         "37,934.00"
        ],
        [
         "mean",
         "4,036.77"
        ],
        [
         "std",
         "8,362.73"
        ],
        [
         "min",
         "0.00"
        ],
        [
         "25%",
         "320.00"
        ],
        [
         "50%",
         "942.00"
        ],
        [
         "75%",
         "3,133.00"
        ],
        [
         "max",
         "71,825.00"
        ]
       ],
       "shape": {
        "columns": 1,
        "rows": 8
       }
      },
      "text/plain": [
       "count    37,934.00\n",
       "mean      4,036.77\n",
       "std       8,362.73\n",
       "min           0.00\n",
       "25%         320.00\n",
       "50%         942.00\n",
       "75%       3,133.00\n",
       "max      71,825.00\n",
       "Name: newinstalls, dtype: object"
      ]
     },
     "execution_count": 55,
     "metadata": {},
     "output_type": "execute_result"
    }
   ],
   "source": [
    "df_completo['newinstalls'].describe().apply(lambda x: f\"{x:,.2f}\")"
   ]
  },
  {
   "cell_type": "markdown",
   "id": "4992c24e",
   "metadata": {},
   "source": [
    "### *category*"
   ]
  },
  {
   "cell_type": "code",
   "execution_count": 56,
   "id": "1a9b4871",
   "metadata": {},
   "outputs": [
    {
     "data": {
      "application/vnd.microsoft.datawrangler.viewer.v0+json": {
       "columns": [
        {
         "name": "category",
         "rawType": "object",
         "type": "string"
        },
        {
         "name": "count",
         "rawType": "int64",
         "type": "integer"
        }
       ],
       "ref": "be127276-dc77-4320-9e9a-179c3dcd9d78",
       "rows": [
        [
         "FINANCE",
         "15165"
        ],
        [
         "OTHERS",
         "9139"
        ],
        [
         "SHOPPING",
         "6894"
        ],
        [
         "BUSINESS",
         "3572"
        ],
        [
         "TRAVEL_AND_LOCAL",
         "2583"
        ],
        [
         "FOOD_AND_DRINK",
         "1141"
        ]
       ],
       "shape": {
        "columns": 1,
        "rows": 6
       }
      },
      "text/plain": [
       "category\n",
       "FINANCE             15165\n",
       "OTHERS               9139\n",
       "SHOPPING             6894\n",
       "BUSINESS             3572\n",
       "TRAVEL_AND_LOCAL     2583\n",
       "FOOD_AND_DRINK       1141\n",
       "Name: count, dtype: int64"
      ]
     },
     "execution_count": 56,
     "metadata": {},
     "output_type": "execute_result"
    }
   ],
   "source": [
    "df_completo['category'].value_counts()"
   ]
  },
  {
   "cell_type": "markdown",
   "id": "a51e83e3",
   "metadata": {},
   "source": [
    "## Análise Bivariada\n",
    "\n",
    "Nessa seção busco correlações entre variáveis para começar a entender quais são mais explicativas para o fenômeno que buscamos modelar. \n",
    "\n",
    "Por se tratar de um número pequeno de variáveis, começo já utilizando a ***correlação de Pearson***.\n",
    "\n",
    "Nesta etapa iremos entender melhor a relação das variáveis em questão, buscando entender quais conseguirão melhor explicar o modelo que estamos construindo.\n",
    "\n",
    "Observamos que as features **ratings** e **reviews** possuem maior correlação com o número de usuários ativos, podendo indicar trazer ganhos interessantes no modelo."
   ]
  },
  {
   "cell_type": "code",
   "execution_count": 57,
   "id": "5d62c608",
   "metadata": {},
   "outputs": [],
   "source": [
    "df_numeric = df_completo.select_dtypes(include=[\"number\"])\n",
    "\n",
    "correlation_matrix = df_numeric.corr(method='pearson')"
   ]
  },
  {
   "cell_type": "code",
   "execution_count": 58,
   "id": "ddf4a27f",
   "metadata": {},
   "outputs": [
    {
     "data": {
      "image/png": "[encoded data removed]",
      "text/plain": [
       "<Figure size 600x400 with 2 Axes>"
      ]
     },
     "metadata": {},
     "output_type": "display_data"
    }
   ],
   "source": [
    "plt.figure(figsize=(6, 4))\n",
    "sns.heatmap(correlation_matrix, annot=True, cmap='coolwarm', fmt=\".2f\")\n",
    "plt.xticks(rotation=45)\n",
    "plt.title(\"Correlação de Pearson\")\n",
    "plt.show()"
   ]
  },
  {
   "cell_type": "markdown",
   "id": "b5083ef7",
   "metadata": {},
   "source": [
    "# Preparando dados para Modelagem\n",
    "Separei 10% da base para validação de performance, e o restante eu utilizarei no processo de modelagem."
   ]
  },
  {
   "cell_type": "code",
   "execution_count": 59,
   "id": "5e2d4a15",
   "metadata": {},
   "outputs": [],
   "source": [
    "df_completo = df_completo.sort_values(by=[\"appId\", \"date\"])\n",
    "\n",
    "df_train_val, df_test = train_test_split(\n",
    "    df_completo,\n",
    "    test_size=0.1,\n",
    "    shuffle=False\n",
    ")\n"
   ]
  },
  {
   "cell_type": "code",
   "execution_count": null,
   "id": "8071ab91",
   "metadata": {},
   "outputs": [],
   "source": [
    "df_train_val.to_csv('../data/modeling_data.csv', index=False)\n",
    "df_test.to_csv('../data/test_data.csv', index=False)"
   ]
  }
 ],
 "metadata": {
  "kernelspec": {
   "display_name": "base",
   "language": "python",
   "name": "python3"
  },
  "language_info": {
   "codemirror_mode": {
    "name": "ipython",
    "version": 3
   },
   "file_extension": ".py",
   "mimetype": "text/x-python",
   "name": "python",
   "nbconvert_exporter": "python",
   "pygments_lexer": "ipython3",
   "version": "3.12.4"
  }
 },
 "nbformat": 4,
 "nbformat_minor": 5
}
